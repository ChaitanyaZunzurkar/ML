{
  "nbformat": 4,
  "nbformat_minor": 0,
  "metadata": {
    "colab": {
      "provenance": []
    },
    "kernelspec": {
      "name": "python3",
      "display_name": "Python 3"
    },
    "language_info": {
      "name": "python"
    }
  },
  "cells": [
    {
      "cell_type": "markdown",
      "source": [
        "# Breast Cancer Prediction\n"
      ],
      "metadata": {
        "id": "i88ElNzsjNhk"
      }
    },
    {
      "cell_type": "code",
      "execution_count": 21,
      "metadata": {
        "id": "sdqBbpL_hLR2"
      },
      "outputs": [],
      "source": [
        "import numpy as np\n",
        "import pandas as pd\n",
        "import matplotlib.pyplot as plt\n",
        "import seaborn as sns\n",
        "import warnings\n",
        "from sklearn.neighbors import KNeighborsClassifier\n",
        "from sklearn.model_selection import train_test_split\n",
        "from sklearn.metrics import accuracy_score\n",
        "from sklearn.preprocessing import StandardScaler\n",
        "from sklearn.compose import ColumnTransformer\n",
        "from sklearn.pipeline import Pipeline\n",
        "from sklearn.model_selection import GridSearchCV\n",
        "warnings.filterwarnings('ignore')"
      ]
    },
    {
      "cell_type": "code",
      "source": [
        "df = pd.read_csv('/content/data.csv')\n",
        "df.head()"
      ],
      "metadata": {
        "colab": {
          "base_uri": "https://localhost:8080/",
          "height": 273
        },
        "id": "wEivjjj6hXf3",
        "outputId": "4d9a8729-99fd-41b6-990c-a07b46b25d48"
      },
      "execution_count": 13,
      "outputs": [
        {
          "output_type": "execute_result",
          "data": {
            "text/plain": [
              "         id diagnosis  radius_mean  texture_mean  perimeter_mean  area_mean  \\\n",
              "0    842302         M        17.99         10.38          122.80     1001.0   \n",
              "1    842517         M        20.57         17.77          132.90     1326.0   \n",
              "2  84300903         M        19.69         21.25          130.00     1203.0   \n",
              "3  84348301         M        11.42         20.38           77.58      386.1   \n",
              "4  84358402         M        20.29         14.34          135.10     1297.0   \n",
              "\n",
              "   smoothness_mean  compactness_mean  concavity_mean  concave points_mean  \\\n",
              "0          0.11840           0.27760          0.3001              0.14710   \n",
              "1          0.08474           0.07864          0.0869              0.07017   \n",
              "2          0.10960           0.15990          0.1974              0.12790   \n",
              "3          0.14250           0.28390          0.2414              0.10520   \n",
              "4          0.10030           0.13280          0.1980              0.10430   \n",
              "\n",
              "   ...  texture_worst  perimeter_worst  area_worst  smoothness_worst  \\\n",
              "0  ...          17.33           184.60      2019.0            0.1622   \n",
              "1  ...          23.41           158.80      1956.0            0.1238   \n",
              "2  ...          25.53           152.50      1709.0            0.1444   \n",
              "3  ...          26.50            98.87       567.7            0.2098   \n",
              "4  ...          16.67           152.20      1575.0            0.1374   \n",
              "\n",
              "   compactness_worst  concavity_worst  concave points_worst  symmetry_worst  \\\n",
              "0             0.6656           0.7119                0.2654          0.4601   \n",
              "1             0.1866           0.2416                0.1860          0.2750   \n",
              "2             0.4245           0.4504                0.2430          0.3613   \n",
              "3             0.8663           0.6869                0.2575          0.6638   \n",
              "4             0.2050           0.4000                0.1625          0.2364   \n",
              "\n",
              "   fractal_dimension_worst  Unnamed: 32  \n",
              "0                  0.11890          NaN  \n",
              "1                  0.08902          NaN  \n",
              "2                  0.08758          NaN  \n",
              "3                  0.17300          NaN  \n",
              "4                  0.07678          NaN  \n",
              "\n",
              "[5 rows x 33 columns]"
            ],
            "text/html": [
              "\n",
              "  <div id=\"df-46f961c1-0377-48eb-8972-273bb1bb6ced\" class=\"colab-df-container\">\n",
              "    <div>\n",
              "<style scoped>\n",
              "    .dataframe tbody tr th:only-of-type {\n",
              "        vertical-align: middle;\n",
              "    }\n",
              "\n",
              "    .dataframe tbody tr th {\n",
              "        vertical-align: top;\n",
              "    }\n",
              "\n",
              "    .dataframe thead th {\n",
              "        text-align: right;\n",
              "    }\n",
              "</style>\n",
              "<table border=\"1\" class=\"dataframe\">\n",
              "  <thead>\n",
              "    <tr style=\"text-align: right;\">\n",
              "      <th></th>\n",
              "      <th>id</th>\n",
              "      <th>diagnosis</th>\n",
              "      <th>radius_mean</th>\n",
              "      <th>texture_mean</th>\n",
              "      <th>perimeter_mean</th>\n",
              "      <th>area_mean</th>\n",
              "      <th>smoothness_mean</th>\n",
              "      <th>compactness_mean</th>\n",
              "      <th>concavity_mean</th>\n",
              "      <th>concave points_mean</th>\n",
              "      <th>...</th>\n",
              "      <th>texture_worst</th>\n",
              "      <th>perimeter_worst</th>\n",
              "      <th>area_worst</th>\n",
              "      <th>smoothness_worst</th>\n",
              "      <th>compactness_worst</th>\n",
              "      <th>concavity_worst</th>\n",
              "      <th>concave points_worst</th>\n",
              "      <th>symmetry_worst</th>\n",
              "      <th>fractal_dimension_worst</th>\n",
              "      <th>Unnamed: 32</th>\n",
              "    </tr>\n",
              "  </thead>\n",
              "  <tbody>\n",
              "    <tr>\n",
              "      <th>0</th>\n",
              "      <td>842302</td>\n",
              "      <td>M</td>\n",
              "      <td>17.99</td>\n",
              "      <td>10.38</td>\n",
              "      <td>122.80</td>\n",
              "      <td>1001.0</td>\n",
              "      <td>0.11840</td>\n",
              "      <td>0.27760</td>\n",
              "      <td>0.3001</td>\n",
              "      <td>0.14710</td>\n",
              "      <td>...</td>\n",
              "      <td>17.33</td>\n",
              "      <td>184.60</td>\n",
              "      <td>2019.0</td>\n",
              "      <td>0.1622</td>\n",
              "      <td>0.6656</td>\n",
              "      <td>0.7119</td>\n",
              "      <td>0.2654</td>\n",
              "      <td>0.4601</td>\n",
              "      <td>0.11890</td>\n",
              "      <td>NaN</td>\n",
              "    </tr>\n",
              "    <tr>\n",
              "      <th>1</th>\n",
              "      <td>842517</td>\n",
              "      <td>M</td>\n",
              "      <td>20.57</td>\n",
              "      <td>17.77</td>\n",
              "      <td>132.90</td>\n",
              "      <td>1326.0</td>\n",
              "      <td>0.08474</td>\n",
              "      <td>0.07864</td>\n",
              "      <td>0.0869</td>\n",
              "      <td>0.07017</td>\n",
              "      <td>...</td>\n",
              "      <td>23.41</td>\n",
              "      <td>158.80</td>\n",
              "      <td>1956.0</td>\n",
              "      <td>0.1238</td>\n",
              "      <td>0.1866</td>\n",
              "      <td>0.2416</td>\n",
              "      <td>0.1860</td>\n",
              "      <td>0.2750</td>\n",
              "      <td>0.08902</td>\n",
              "      <td>NaN</td>\n",
              "    </tr>\n",
              "    <tr>\n",
              "      <th>2</th>\n",
              "      <td>84300903</td>\n",
              "      <td>M</td>\n",
              "      <td>19.69</td>\n",
              "      <td>21.25</td>\n",
              "      <td>130.00</td>\n",
              "      <td>1203.0</td>\n",
              "      <td>0.10960</td>\n",
              "      <td>0.15990</td>\n",
              "      <td>0.1974</td>\n",
              "      <td>0.12790</td>\n",
              "      <td>...</td>\n",
              "      <td>25.53</td>\n",
              "      <td>152.50</td>\n",
              "      <td>1709.0</td>\n",
              "      <td>0.1444</td>\n",
              "      <td>0.4245</td>\n",
              "      <td>0.4504</td>\n",
              "      <td>0.2430</td>\n",
              "      <td>0.3613</td>\n",
              "      <td>0.08758</td>\n",
              "      <td>NaN</td>\n",
              "    </tr>\n",
              "    <tr>\n",
              "      <th>3</th>\n",
              "      <td>84348301</td>\n",
              "      <td>M</td>\n",
              "      <td>11.42</td>\n",
              "      <td>20.38</td>\n",
              "      <td>77.58</td>\n",
              "      <td>386.1</td>\n",
              "      <td>0.14250</td>\n",
              "      <td>0.28390</td>\n",
              "      <td>0.2414</td>\n",
              "      <td>0.10520</td>\n",
              "      <td>...</td>\n",
              "      <td>26.50</td>\n",
              "      <td>98.87</td>\n",
              "      <td>567.7</td>\n",
              "      <td>0.2098</td>\n",
              "      <td>0.8663</td>\n",
              "      <td>0.6869</td>\n",
              "      <td>0.2575</td>\n",
              "      <td>0.6638</td>\n",
              "      <td>0.17300</td>\n",
              "      <td>NaN</td>\n",
              "    </tr>\n",
              "    <tr>\n",
              "      <th>4</th>\n",
              "      <td>84358402</td>\n",
              "      <td>M</td>\n",
              "      <td>20.29</td>\n",
              "      <td>14.34</td>\n",
              "      <td>135.10</td>\n",
              "      <td>1297.0</td>\n",
              "      <td>0.10030</td>\n",
              "      <td>0.13280</td>\n",
              "      <td>0.1980</td>\n",
              "      <td>0.10430</td>\n",
              "      <td>...</td>\n",
              "      <td>16.67</td>\n",
              "      <td>152.20</td>\n",
              "      <td>1575.0</td>\n",
              "      <td>0.1374</td>\n",
              "      <td>0.2050</td>\n",
              "      <td>0.4000</td>\n",
              "      <td>0.1625</td>\n",
              "      <td>0.2364</td>\n",
              "      <td>0.07678</td>\n",
              "      <td>NaN</td>\n",
              "    </tr>\n",
              "  </tbody>\n",
              "</table>\n",
              "<p>5 rows × 33 columns</p>\n",
              "</div>\n",
              "    <div class=\"colab-df-buttons\">\n",
              "\n",
              "  <div class=\"colab-df-container\">\n",
              "    <button class=\"colab-df-convert\" onclick=\"convertToInteractive('df-46f961c1-0377-48eb-8972-273bb1bb6ced')\"\n",
              "            title=\"Convert this dataframe to an interactive table.\"\n",
              "            style=\"display:none;\">\n",
              "\n",
              "  <svg xmlns=\"http://www.w3.org/2000/svg\" height=\"24px\" viewBox=\"0 -960 960 960\">\n",
              "    <path d=\"M120-120v-720h720v720H120Zm60-500h600v-160H180v160Zm220 220h160v-160H400v160Zm0 220h160v-160H400v160ZM180-400h160v-160H180v160Zm440 0h160v-160H620v160ZM180-180h160v-160H180v160Zm440 0h160v-160H620v160Z\"/>\n",
              "  </svg>\n",
              "    </button>\n",
              "\n",
              "  <style>\n",
              "    .colab-df-container {\n",
              "      display:flex;\n",
              "      gap: 12px;\n",
              "    }\n",
              "\n",
              "    .colab-df-convert {\n",
              "      background-color: #E8F0FE;\n",
              "      border: none;\n",
              "      border-radius: 50%;\n",
              "      cursor: pointer;\n",
              "      display: none;\n",
              "      fill: #1967D2;\n",
              "      height: 32px;\n",
              "      padding: 0 0 0 0;\n",
              "      width: 32px;\n",
              "    }\n",
              "\n",
              "    .colab-df-convert:hover {\n",
              "      background-color: #E2EBFA;\n",
              "      box-shadow: 0px 1px 2px rgba(60, 64, 67, 0.3), 0px 1px 3px 1px rgba(60, 64, 67, 0.15);\n",
              "      fill: #174EA6;\n",
              "    }\n",
              "\n",
              "    .colab-df-buttons div {\n",
              "      margin-bottom: 4px;\n",
              "    }\n",
              "\n",
              "    [theme=dark] .colab-df-convert {\n",
              "      background-color: #3B4455;\n",
              "      fill: #D2E3FC;\n",
              "    }\n",
              "\n",
              "    [theme=dark] .colab-df-convert:hover {\n",
              "      background-color: #434B5C;\n",
              "      box-shadow: 0px 1px 3px 1px rgba(0, 0, 0, 0.15);\n",
              "      filter: drop-shadow(0px 1px 2px rgba(0, 0, 0, 0.3));\n",
              "      fill: #FFFFFF;\n",
              "    }\n",
              "  </style>\n",
              "\n",
              "    <script>\n",
              "      const buttonEl =\n",
              "        document.querySelector('#df-46f961c1-0377-48eb-8972-273bb1bb6ced button.colab-df-convert');\n",
              "      buttonEl.style.display =\n",
              "        google.colab.kernel.accessAllowed ? 'block' : 'none';\n",
              "\n",
              "      async function convertToInteractive(key) {\n",
              "        const element = document.querySelector('#df-46f961c1-0377-48eb-8972-273bb1bb6ced');\n",
              "        const dataTable =\n",
              "          await google.colab.kernel.invokeFunction('convertToInteractive',\n",
              "                                                    [key], {});\n",
              "        if (!dataTable) return;\n",
              "\n",
              "        const docLinkHtml = 'Like what you see? Visit the ' +\n",
              "          '<a target=\"_blank\" href=https://colab.research.google.com/notebooks/data_table.ipynb>data table notebook</a>'\n",
              "          + ' to learn more about interactive tables.';\n",
              "        element.innerHTML = '';\n",
              "        dataTable['output_type'] = 'display_data';\n",
              "        await google.colab.output.renderOutput(dataTable, element);\n",
              "        const docLink = document.createElement('div');\n",
              "        docLink.innerHTML = docLinkHtml;\n",
              "        element.appendChild(docLink);\n",
              "      }\n",
              "    </script>\n",
              "  </div>\n",
              "\n",
              "\n",
              "    <div id=\"df-d2f8db73-7686-480a-940e-eb3124f19f7d\">\n",
              "      <button class=\"colab-df-quickchart\" onclick=\"quickchart('df-d2f8db73-7686-480a-940e-eb3124f19f7d')\"\n",
              "                title=\"Suggest charts\"\n",
              "                style=\"display:none;\">\n",
              "\n",
              "<svg xmlns=\"http://www.w3.org/2000/svg\" height=\"24px\"viewBox=\"0 0 24 24\"\n",
              "     width=\"24px\">\n",
              "    <g>\n",
              "        <path d=\"M19 3H5c-1.1 0-2 .9-2 2v14c0 1.1.9 2 2 2h14c1.1 0 2-.9 2-2V5c0-1.1-.9-2-2-2zM9 17H7v-7h2v7zm4 0h-2V7h2v10zm4 0h-2v-4h2v4z\"/>\n",
              "    </g>\n",
              "</svg>\n",
              "      </button>\n",
              "\n",
              "<style>\n",
              "  .colab-df-quickchart {\n",
              "      --bg-color: #E8F0FE;\n",
              "      --fill-color: #1967D2;\n",
              "      --hover-bg-color: #E2EBFA;\n",
              "      --hover-fill-color: #174EA6;\n",
              "      --disabled-fill-color: #AAA;\n",
              "      --disabled-bg-color: #DDD;\n",
              "  }\n",
              "\n",
              "  [theme=dark] .colab-df-quickchart {\n",
              "      --bg-color: #3B4455;\n",
              "      --fill-color: #D2E3FC;\n",
              "      --hover-bg-color: #434B5C;\n",
              "      --hover-fill-color: #FFFFFF;\n",
              "      --disabled-bg-color: #3B4455;\n",
              "      --disabled-fill-color: #666;\n",
              "  }\n",
              "\n",
              "  .colab-df-quickchart {\n",
              "    background-color: var(--bg-color);\n",
              "    border: none;\n",
              "    border-radius: 50%;\n",
              "    cursor: pointer;\n",
              "    display: none;\n",
              "    fill: var(--fill-color);\n",
              "    height: 32px;\n",
              "    padding: 0;\n",
              "    width: 32px;\n",
              "  }\n",
              "\n",
              "  .colab-df-quickchart:hover {\n",
              "    background-color: var(--hover-bg-color);\n",
              "    box-shadow: 0 1px 2px rgba(60, 64, 67, 0.3), 0 1px 3px 1px rgba(60, 64, 67, 0.15);\n",
              "    fill: var(--button-hover-fill-color);\n",
              "  }\n",
              "\n",
              "  .colab-df-quickchart-complete:disabled,\n",
              "  .colab-df-quickchart-complete:disabled:hover {\n",
              "    background-color: var(--disabled-bg-color);\n",
              "    fill: var(--disabled-fill-color);\n",
              "    box-shadow: none;\n",
              "  }\n",
              "\n",
              "  .colab-df-spinner {\n",
              "    border: 2px solid var(--fill-color);\n",
              "    border-color: transparent;\n",
              "    border-bottom-color: var(--fill-color);\n",
              "    animation:\n",
              "      spin 1s steps(1) infinite;\n",
              "  }\n",
              "\n",
              "  @keyframes spin {\n",
              "    0% {\n",
              "      border-color: transparent;\n",
              "      border-bottom-color: var(--fill-color);\n",
              "      border-left-color: var(--fill-color);\n",
              "    }\n",
              "    20% {\n",
              "      border-color: transparent;\n",
              "      border-left-color: var(--fill-color);\n",
              "      border-top-color: var(--fill-color);\n",
              "    }\n",
              "    30% {\n",
              "      border-color: transparent;\n",
              "      border-left-color: var(--fill-color);\n",
              "      border-top-color: var(--fill-color);\n",
              "      border-right-color: var(--fill-color);\n",
              "    }\n",
              "    40% {\n",
              "      border-color: transparent;\n",
              "      border-right-color: var(--fill-color);\n",
              "      border-top-color: var(--fill-color);\n",
              "    }\n",
              "    60% {\n",
              "      border-color: transparent;\n",
              "      border-right-color: var(--fill-color);\n",
              "    }\n",
              "    80% {\n",
              "      border-color: transparent;\n",
              "      border-right-color: var(--fill-color);\n",
              "      border-bottom-color: var(--fill-color);\n",
              "    }\n",
              "    90% {\n",
              "      border-color: transparent;\n",
              "      border-bottom-color: var(--fill-color);\n",
              "    }\n",
              "  }\n",
              "</style>\n",
              "\n",
              "      <script>\n",
              "        async function quickchart(key) {\n",
              "          const quickchartButtonEl =\n",
              "            document.querySelector('#' + key + ' button');\n",
              "          quickchartButtonEl.disabled = true;  // To prevent multiple clicks.\n",
              "          quickchartButtonEl.classList.add('colab-df-spinner');\n",
              "          try {\n",
              "            const charts = await google.colab.kernel.invokeFunction(\n",
              "                'suggestCharts', [key], {});\n",
              "          } catch (error) {\n",
              "            console.error('Error during call to suggestCharts:', error);\n",
              "          }\n",
              "          quickchartButtonEl.classList.remove('colab-df-spinner');\n",
              "          quickchartButtonEl.classList.add('colab-df-quickchart-complete');\n",
              "        }\n",
              "        (() => {\n",
              "          let quickchartButtonEl =\n",
              "            document.querySelector('#df-d2f8db73-7686-480a-940e-eb3124f19f7d button');\n",
              "          quickchartButtonEl.style.display =\n",
              "            google.colab.kernel.accessAllowed ? 'block' : 'none';\n",
              "        })();\n",
              "      </script>\n",
              "    </div>\n",
              "\n",
              "    </div>\n",
              "  </div>\n"
            ],
            "application/vnd.google.colaboratory.intrinsic+json": {
              "type": "dataframe",
              "variable_name": "df"
            }
          },
          "metadata": {},
          "execution_count": 13
        }
      ]
    },
    {
      "cell_type": "code",
      "source": [
        "df.sample(5)"
      ],
      "metadata": {
        "colab": {
          "base_uri": "https://localhost:8080/",
          "height": 273
        },
        "id": "AQVdCO7NhkGO",
        "outputId": "5bc2bb80-2605-451f-ffe5-48c63cf7b32c"
      },
      "execution_count": 14,
      "outputs": [
        {
          "output_type": "execute_result",
          "data": {
            "text/plain": [
              "         id diagnosis  radius_mean  texture_mean  perimeter_mean  area_mean  \\\n",
              "469  911366         B        11.62         18.18           76.38      408.8   \n",
              "440  909411         B        10.97         17.20           71.73      371.5   \n",
              "434  908469         B        14.86         16.94           94.89      673.7   \n",
              "117  864729         M        14.87         16.67           98.64      682.5   \n",
              "405  904971         B        10.94         18.59           70.39      370.0   \n",
              "\n",
              "     smoothness_mean  compactness_mean  concavity_mean  concave points_mean  \\\n",
              "469          0.11750           0.14830         0.10200              0.05564   \n",
              "440          0.08915           0.11130         0.09457              0.03613   \n",
              "434          0.08924           0.07074         0.03346              0.02877   \n",
              "117          0.11620           0.16490         0.16900              0.08923   \n",
              "405          0.10040           0.07460         0.04944              0.02932   \n",
              "\n",
              "     ...  texture_worst  perimeter_worst  area_worst  smoothness_worst  \\\n",
              "469  ...          25.40            88.14       528.1            0.1780   \n",
              "440  ...          26.87            90.14       476.4            0.1391   \n",
              "434  ...          20.54           102.30       777.5            0.1218   \n",
              "117  ...          27.37           127.10      1095.0            0.1878   \n",
              "405  ...          25.58            82.76       472.4            0.1363   \n",
              "\n",
              "     compactness_worst  concavity_worst  concave points_worst  symmetry_worst  \\\n",
              "469             0.2878           0.3186               0.14160          0.2660   \n",
              "440             0.4082           0.4779               0.15550          0.2540   \n",
              "434             0.1550           0.1220               0.07971          0.2525   \n",
              "117             0.4480           0.4704               0.20270          0.3585   \n",
              "405             0.1644           0.1412               0.07887          0.2251   \n",
              "\n",
              "     fractal_dimension_worst  Unnamed: 32  \n",
              "469                  0.09270          NaN  \n",
              "440                  0.09532          NaN  \n",
              "434                  0.06827          NaN  \n",
              "117                  0.10650          NaN  \n",
              "405                  0.07732          NaN  \n",
              "\n",
              "[5 rows x 33 columns]"
            ],
            "text/html": [
              "\n",
              "  <div id=\"df-6e38824e-e191-48be-bb77-d3a8cd6bac3e\" class=\"colab-df-container\">\n",
              "    <div>\n",
              "<style scoped>\n",
              "    .dataframe tbody tr th:only-of-type {\n",
              "        vertical-align: middle;\n",
              "    }\n",
              "\n",
              "    .dataframe tbody tr th {\n",
              "        vertical-align: top;\n",
              "    }\n",
              "\n",
              "    .dataframe thead th {\n",
              "        text-align: right;\n",
              "    }\n",
              "</style>\n",
              "<table border=\"1\" class=\"dataframe\">\n",
              "  <thead>\n",
              "    <tr style=\"text-align: right;\">\n",
              "      <th></th>\n",
              "      <th>id</th>\n",
              "      <th>diagnosis</th>\n",
              "      <th>radius_mean</th>\n",
              "      <th>texture_mean</th>\n",
              "      <th>perimeter_mean</th>\n",
              "      <th>area_mean</th>\n",
              "      <th>smoothness_mean</th>\n",
              "      <th>compactness_mean</th>\n",
              "      <th>concavity_mean</th>\n",
              "      <th>concave points_mean</th>\n",
              "      <th>...</th>\n",
              "      <th>texture_worst</th>\n",
              "      <th>perimeter_worst</th>\n",
              "      <th>area_worst</th>\n",
              "      <th>smoothness_worst</th>\n",
              "      <th>compactness_worst</th>\n",
              "      <th>concavity_worst</th>\n",
              "      <th>concave points_worst</th>\n",
              "      <th>symmetry_worst</th>\n",
              "      <th>fractal_dimension_worst</th>\n",
              "      <th>Unnamed: 32</th>\n",
              "    </tr>\n",
              "  </thead>\n",
              "  <tbody>\n",
              "    <tr>\n",
              "      <th>469</th>\n",
              "      <td>911366</td>\n",
              "      <td>B</td>\n",
              "      <td>11.62</td>\n",
              "      <td>18.18</td>\n",
              "      <td>76.38</td>\n",
              "      <td>408.8</td>\n",
              "      <td>0.11750</td>\n",
              "      <td>0.14830</td>\n",
              "      <td>0.10200</td>\n",
              "      <td>0.05564</td>\n",
              "      <td>...</td>\n",
              "      <td>25.40</td>\n",
              "      <td>88.14</td>\n",
              "      <td>528.1</td>\n",
              "      <td>0.1780</td>\n",
              "      <td>0.2878</td>\n",
              "      <td>0.3186</td>\n",
              "      <td>0.14160</td>\n",
              "      <td>0.2660</td>\n",
              "      <td>0.09270</td>\n",
              "      <td>NaN</td>\n",
              "    </tr>\n",
              "    <tr>\n",
              "      <th>440</th>\n",
              "      <td>909411</td>\n",
              "      <td>B</td>\n",
              "      <td>10.97</td>\n",
              "      <td>17.20</td>\n",
              "      <td>71.73</td>\n",
              "      <td>371.5</td>\n",
              "      <td>0.08915</td>\n",
              "      <td>0.11130</td>\n",
              "      <td>0.09457</td>\n",
              "      <td>0.03613</td>\n",
              "      <td>...</td>\n",
              "      <td>26.87</td>\n",
              "      <td>90.14</td>\n",
              "      <td>476.4</td>\n",
              "      <td>0.1391</td>\n",
              "      <td>0.4082</td>\n",
              "      <td>0.4779</td>\n",
              "      <td>0.15550</td>\n",
              "      <td>0.2540</td>\n",
              "      <td>0.09532</td>\n",
              "      <td>NaN</td>\n",
              "    </tr>\n",
              "    <tr>\n",
              "      <th>434</th>\n",
              "      <td>908469</td>\n",
              "      <td>B</td>\n",
              "      <td>14.86</td>\n",
              "      <td>16.94</td>\n",
              "      <td>94.89</td>\n",
              "      <td>673.7</td>\n",
              "      <td>0.08924</td>\n",
              "      <td>0.07074</td>\n",
              "      <td>0.03346</td>\n",
              "      <td>0.02877</td>\n",
              "      <td>...</td>\n",
              "      <td>20.54</td>\n",
              "      <td>102.30</td>\n",
              "      <td>777.5</td>\n",
              "      <td>0.1218</td>\n",
              "      <td>0.1550</td>\n",
              "      <td>0.1220</td>\n",
              "      <td>0.07971</td>\n",
              "      <td>0.2525</td>\n",
              "      <td>0.06827</td>\n",
              "      <td>NaN</td>\n",
              "    </tr>\n",
              "    <tr>\n",
              "      <th>117</th>\n",
              "      <td>864729</td>\n",
              "      <td>M</td>\n",
              "      <td>14.87</td>\n",
              "      <td>16.67</td>\n",
              "      <td>98.64</td>\n",
              "      <td>682.5</td>\n",
              "      <td>0.11620</td>\n",
              "      <td>0.16490</td>\n",
              "      <td>0.16900</td>\n",
              "      <td>0.08923</td>\n",
              "      <td>...</td>\n",
              "      <td>27.37</td>\n",
              "      <td>127.10</td>\n",
              "      <td>1095.0</td>\n",
              "      <td>0.1878</td>\n",
              "      <td>0.4480</td>\n",
              "      <td>0.4704</td>\n",
              "      <td>0.20270</td>\n",
              "      <td>0.3585</td>\n",
              "      <td>0.10650</td>\n",
              "      <td>NaN</td>\n",
              "    </tr>\n",
              "    <tr>\n",
              "      <th>405</th>\n",
              "      <td>904971</td>\n",
              "      <td>B</td>\n",
              "      <td>10.94</td>\n",
              "      <td>18.59</td>\n",
              "      <td>70.39</td>\n",
              "      <td>370.0</td>\n",
              "      <td>0.10040</td>\n",
              "      <td>0.07460</td>\n",
              "      <td>0.04944</td>\n",
              "      <td>0.02932</td>\n",
              "      <td>...</td>\n",
              "      <td>25.58</td>\n",
              "      <td>82.76</td>\n",
              "      <td>472.4</td>\n",
              "      <td>0.1363</td>\n",
              "      <td>0.1644</td>\n",
              "      <td>0.1412</td>\n",
              "      <td>0.07887</td>\n",
              "      <td>0.2251</td>\n",
              "      <td>0.07732</td>\n",
              "      <td>NaN</td>\n",
              "    </tr>\n",
              "  </tbody>\n",
              "</table>\n",
              "<p>5 rows × 33 columns</p>\n",
              "</div>\n",
              "    <div class=\"colab-df-buttons\">\n",
              "\n",
              "  <div class=\"colab-df-container\">\n",
              "    <button class=\"colab-df-convert\" onclick=\"convertToInteractive('df-6e38824e-e191-48be-bb77-d3a8cd6bac3e')\"\n",
              "            title=\"Convert this dataframe to an interactive table.\"\n",
              "            style=\"display:none;\">\n",
              "\n",
              "  <svg xmlns=\"http://www.w3.org/2000/svg\" height=\"24px\" viewBox=\"0 -960 960 960\">\n",
              "    <path d=\"M120-120v-720h720v720H120Zm60-500h600v-160H180v160Zm220 220h160v-160H400v160Zm0 220h160v-160H400v160ZM180-400h160v-160H180v160Zm440 0h160v-160H620v160ZM180-180h160v-160H180v160Zm440 0h160v-160H620v160Z\"/>\n",
              "  </svg>\n",
              "    </button>\n",
              "\n",
              "  <style>\n",
              "    .colab-df-container {\n",
              "      display:flex;\n",
              "      gap: 12px;\n",
              "    }\n",
              "\n",
              "    .colab-df-convert {\n",
              "      background-color: #E8F0FE;\n",
              "      border: none;\n",
              "      border-radius: 50%;\n",
              "      cursor: pointer;\n",
              "      display: none;\n",
              "      fill: #1967D2;\n",
              "      height: 32px;\n",
              "      padding: 0 0 0 0;\n",
              "      width: 32px;\n",
              "    }\n",
              "\n",
              "    .colab-df-convert:hover {\n",
              "      background-color: #E2EBFA;\n",
              "      box-shadow: 0px 1px 2px rgba(60, 64, 67, 0.3), 0px 1px 3px 1px rgba(60, 64, 67, 0.15);\n",
              "      fill: #174EA6;\n",
              "    }\n",
              "\n",
              "    .colab-df-buttons div {\n",
              "      margin-bottom: 4px;\n",
              "    }\n",
              "\n",
              "    [theme=dark] .colab-df-convert {\n",
              "      background-color: #3B4455;\n",
              "      fill: #D2E3FC;\n",
              "    }\n",
              "\n",
              "    [theme=dark] .colab-df-convert:hover {\n",
              "      background-color: #434B5C;\n",
              "      box-shadow: 0px 1px 3px 1px rgba(0, 0, 0, 0.15);\n",
              "      filter: drop-shadow(0px 1px 2px rgba(0, 0, 0, 0.3));\n",
              "      fill: #FFFFFF;\n",
              "    }\n",
              "  </style>\n",
              "\n",
              "    <script>\n",
              "      const buttonEl =\n",
              "        document.querySelector('#df-6e38824e-e191-48be-bb77-d3a8cd6bac3e button.colab-df-convert');\n",
              "      buttonEl.style.display =\n",
              "        google.colab.kernel.accessAllowed ? 'block' : 'none';\n",
              "\n",
              "      async function convertToInteractive(key) {\n",
              "        const element = document.querySelector('#df-6e38824e-e191-48be-bb77-d3a8cd6bac3e');\n",
              "        const dataTable =\n",
              "          await google.colab.kernel.invokeFunction('convertToInteractive',\n",
              "                                                    [key], {});\n",
              "        if (!dataTable) return;\n",
              "\n",
              "        const docLinkHtml = 'Like what you see? Visit the ' +\n",
              "          '<a target=\"_blank\" href=https://colab.research.google.com/notebooks/data_table.ipynb>data table notebook</a>'\n",
              "          + ' to learn more about interactive tables.';\n",
              "        element.innerHTML = '';\n",
              "        dataTable['output_type'] = 'display_data';\n",
              "        await google.colab.output.renderOutput(dataTable, element);\n",
              "        const docLink = document.createElement('div');\n",
              "        docLink.innerHTML = docLinkHtml;\n",
              "        element.appendChild(docLink);\n",
              "      }\n",
              "    </script>\n",
              "  </div>\n",
              "\n",
              "\n",
              "    <div id=\"df-48f1f14e-e6cb-495f-b253-85c1c915d9d9\">\n",
              "      <button class=\"colab-df-quickchart\" onclick=\"quickchart('df-48f1f14e-e6cb-495f-b253-85c1c915d9d9')\"\n",
              "                title=\"Suggest charts\"\n",
              "                style=\"display:none;\">\n",
              "\n",
              "<svg xmlns=\"http://www.w3.org/2000/svg\" height=\"24px\"viewBox=\"0 0 24 24\"\n",
              "     width=\"24px\">\n",
              "    <g>\n",
              "        <path d=\"M19 3H5c-1.1 0-2 .9-2 2v14c0 1.1.9 2 2 2h14c1.1 0 2-.9 2-2V5c0-1.1-.9-2-2-2zM9 17H7v-7h2v7zm4 0h-2V7h2v10zm4 0h-2v-4h2v4z\"/>\n",
              "    </g>\n",
              "</svg>\n",
              "      </button>\n",
              "\n",
              "<style>\n",
              "  .colab-df-quickchart {\n",
              "      --bg-color: #E8F0FE;\n",
              "      --fill-color: #1967D2;\n",
              "      --hover-bg-color: #E2EBFA;\n",
              "      --hover-fill-color: #174EA6;\n",
              "      --disabled-fill-color: #AAA;\n",
              "      --disabled-bg-color: #DDD;\n",
              "  }\n",
              "\n",
              "  [theme=dark] .colab-df-quickchart {\n",
              "      --bg-color: #3B4455;\n",
              "      --fill-color: #D2E3FC;\n",
              "      --hover-bg-color: #434B5C;\n",
              "      --hover-fill-color: #FFFFFF;\n",
              "      --disabled-bg-color: #3B4455;\n",
              "      --disabled-fill-color: #666;\n",
              "  }\n",
              "\n",
              "  .colab-df-quickchart {\n",
              "    background-color: var(--bg-color);\n",
              "    border: none;\n",
              "    border-radius: 50%;\n",
              "    cursor: pointer;\n",
              "    display: none;\n",
              "    fill: var(--fill-color);\n",
              "    height: 32px;\n",
              "    padding: 0;\n",
              "    width: 32px;\n",
              "  }\n",
              "\n",
              "  .colab-df-quickchart:hover {\n",
              "    background-color: var(--hover-bg-color);\n",
              "    box-shadow: 0 1px 2px rgba(60, 64, 67, 0.3), 0 1px 3px 1px rgba(60, 64, 67, 0.15);\n",
              "    fill: var(--button-hover-fill-color);\n",
              "  }\n",
              "\n",
              "  .colab-df-quickchart-complete:disabled,\n",
              "  .colab-df-quickchart-complete:disabled:hover {\n",
              "    background-color: var(--disabled-bg-color);\n",
              "    fill: var(--disabled-fill-color);\n",
              "    box-shadow: none;\n",
              "  }\n",
              "\n",
              "  .colab-df-spinner {\n",
              "    border: 2px solid var(--fill-color);\n",
              "    border-color: transparent;\n",
              "    border-bottom-color: var(--fill-color);\n",
              "    animation:\n",
              "      spin 1s steps(1) infinite;\n",
              "  }\n",
              "\n",
              "  @keyframes spin {\n",
              "    0% {\n",
              "      border-color: transparent;\n",
              "      border-bottom-color: var(--fill-color);\n",
              "      border-left-color: var(--fill-color);\n",
              "    }\n",
              "    20% {\n",
              "      border-color: transparent;\n",
              "      border-left-color: var(--fill-color);\n",
              "      border-top-color: var(--fill-color);\n",
              "    }\n",
              "    30% {\n",
              "      border-color: transparent;\n",
              "      border-left-color: var(--fill-color);\n",
              "      border-top-color: var(--fill-color);\n",
              "      border-right-color: var(--fill-color);\n",
              "    }\n",
              "    40% {\n",
              "      border-color: transparent;\n",
              "      border-right-color: var(--fill-color);\n",
              "      border-top-color: var(--fill-color);\n",
              "    }\n",
              "    60% {\n",
              "      border-color: transparent;\n",
              "      border-right-color: var(--fill-color);\n",
              "    }\n",
              "    80% {\n",
              "      border-color: transparent;\n",
              "      border-right-color: var(--fill-color);\n",
              "      border-bottom-color: var(--fill-color);\n",
              "    }\n",
              "    90% {\n",
              "      border-color: transparent;\n",
              "      border-bottom-color: var(--fill-color);\n",
              "    }\n",
              "  }\n",
              "</style>\n",
              "\n",
              "      <script>\n",
              "        async function quickchart(key) {\n",
              "          const quickchartButtonEl =\n",
              "            document.querySelector('#' + key + ' button');\n",
              "          quickchartButtonEl.disabled = true;  // To prevent multiple clicks.\n",
              "          quickchartButtonEl.classList.add('colab-df-spinner');\n",
              "          try {\n",
              "            const charts = await google.colab.kernel.invokeFunction(\n",
              "                'suggestCharts', [key], {});\n",
              "          } catch (error) {\n",
              "            console.error('Error during call to suggestCharts:', error);\n",
              "          }\n",
              "          quickchartButtonEl.classList.remove('colab-df-spinner');\n",
              "          quickchartButtonEl.classList.add('colab-df-quickchart-complete');\n",
              "        }\n",
              "        (() => {\n",
              "          let quickchartButtonEl =\n",
              "            document.querySelector('#df-48f1f14e-e6cb-495f-b253-85c1c915d9d9 button');\n",
              "          quickchartButtonEl.style.display =\n",
              "            google.colab.kernel.accessAllowed ? 'block' : 'none';\n",
              "        })();\n",
              "      </script>\n",
              "    </div>\n",
              "\n",
              "    </div>\n",
              "  </div>\n"
            ],
            "application/vnd.google.colaboratory.intrinsic+json": {
              "type": "dataframe"
            }
          },
          "metadata": {},
          "execution_count": 14
        }
      ]
    },
    {
      "cell_type": "code",
      "source": [
        "df.set_index('id' , inplace=True)\n",
        "\n",
        "df.drop(columns=['Unnamed: 32'] , inplace=True)"
      ],
      "metadata": {
        "id": "dsX9x8LAitGJ"
      },
      "execution_count": 15,
      "outputs": []
    },
    {
      "cell_type": "code",
      "source": [
        "X = df.drop(columns=['diagnosis'])\n",
        "y = df['diagnosis']\n",
        "\n",
        "X_train , X_test , y_train , y_test = train_test_split(X , y , test_size=0.3 , random_state=42)"
      ],
      "metadata": {
        "id": "wUG_Np_Dh7ON"
      },
      "execution_count": 16,
      "outputs": []
    },
    {
      "cell_type": "code",
      "source": [
        "model = KNeighborsClassifier(n_neighbors=5)\n",
        "\n",
        "model.fit(X_train , y_train)\n",
        "\n",
        "y_pred = model.predict(X_test)\n",
        "\n",
        "accuracy_score(y_test , y_pred)"
      ],
      "metadata": {
        "colab": {
          "base_uri": "https://localhost:8080/"
        },
        "id": "HdmCgzHthlPG",
        "outputId": "de32b575-f944-40b9-dd19-7060be5f6c77"
      },
      "execution_count": 18,
      "outputs": [
        {
          "output_type": "execute_result",
          "data": {
            "text/plain": [
              "0.9590643274853801"
            ]
          },
          "metadata": {},
          "execution_count": 18
        }
      ]
    },
    {
      "cell_type": "markdown",
      "source": [
        "# Implememnting PCA from stratch"
      ],
      "metadata": {
        "id": "MHzh_oanjUpb"
      }
    },
    {
      "cell_type": "code",
      "source": [
        "# Step 1 :- Mean Centering\n",
        "X_train_scaled = StandardScaler().fit_transform(X_train)\n",
        "X_test_scaled = StandardScaler().fit_transform(X_test)"
      ],
      "metadata": {
        "id": "xc_6O7awjaLj"
      },
      "execution_count": 22,
      "outputs": []
    },
    {
      "cell_type": "code",
      "source": [
        "# Step 2 :- Calculating Covariance matrix\n",
        "cov_matrix = np.cov(X_train_scaled.T)"
      ],
      "metadata": {
        "id": "vR9jpET4lyLa"
      },
      "execution_count": 24,
      "outputs": []
    },
    {
      "cell_type": "code",
      "source": [
        "eigen_value , eigen_vector = np.linalg.eig(cov_matrix)"
      ],
      "metadata": {
        "id": "y3B4qOIlmbnQ"
      },
      "execution_count": 27,
      "outputs": []
    },
    {
      "cell_type": "code",
      "source": [
        "pre_contri_to_var = (eigen_value / np.sum(eigen_value)) * 100"
      ],
      "metadata": {
        "id": "7g64U8yNnd7u"
      },
      "execution_count": 36,
      "outputs": []
    },
    {
      "cell_type": "code",
      "source": [
        "pre_contri_to_var"
      ],
      "metadata": {
        "colab": {
          "base_uri": "https://localhost:8080/"
        },
        "id": "Z3Vrhpt-oMcc",
        "outputId": "b47f22df-bfa5-4881-a815-d5f7518de4be"
      },
      "execution_count": 37,
      "outputs": [
        {
          "output_type": "execute_result",
          "data": {
            "text/plain": [
              "array([4.31674797e+01, 1.98456518e+01, 9.73315919e+00, 6.53157416e+00,\n",
              "       5.21215121e+00, 4.19895964e+00, 2.26346091e+00, 1.68266865e+00,\n",
              "       1.29469004e+00, 1.20940991e+00, 1.05718541e+00, 8.99278095e-01,\n",
              "       8.09411361e-01, 5.10761728e-01, 2.82723938e-01, 2.29310126e-01,\n",
              "       1.98205581e-01, 1.79731659e-01, 1.66263238e-01, 3.88199283e-04,\n",
              "       2.53024192e-03, 4.96327267e-03, 2.44129784e-02, 2.23185341e-02,\n",
              "       5.03380563e-02, 5.68800600e-02, 1.05609966e-01, 7.82753227e-02,\n",
              "       9.03926694e-02, 9.18143445e-02])"
            ]
          },
          "metadata": {},
          "execution_count": 37
        }
      ]
    },
    {
      "cell_type": "code",
      "source": [
        "cumulative_var = np.cumsum(pre_contri_to_var)"
      ],
      "metadata": {
        "id": "1RR4mAIwoOkD"
      },
      "execution_count": 80,
      "outputs": []
    },
    {
      "cell_type": "code",
      "source": [
        "plt.plot(np.cumsum(pre_contri_to_var))"
      ],
      "metadata": {
        "colab": {
          "base_uri": "https://localhost:8080/",
          "height": 447
        },
        "id": "Eu9CUifWocg9",
        "outputId": "3495975b-4624-4a0f-9645-445dd6d2dbbf"
      },
      "execution_count": 40,
      "outputs": [
        {
          "output_type": "execute_result",
          "data": {
            "text/plain": [
              "[<matplotlib.lines.Line2D at 0x7e339a0b2c00>]"
            ]
          },
          "metadata": {},
          "execution_count": 40
        },
        {
          "output_type": "display_data",
          "data": {
            "text/plain": [
              "<Figure size 640x480 with 1 Axes>"
            ],
            "image/png": "[encoded data removed]"
          },
          "metadata": {}
        }
      ]
    },
    {
      "cell_type": "code",
      "source": [
        "k = 7\n",
        "W = eigen_vector[: , :k]\n",
        "\n",
        "X_train_pca = X_train_scaled.dot(W)\n",
        "X_test_pca = X_test_scaled.dot(W)"
      ],
      "metadata": {
        "id": "XhLOmqY8oknK"
      },
      "execution_count": 54,
      "outputs": []
    },
    {
      "cell_type": "code",
      "source": [
        "model = KNeighborsClassifier(n_neighbors=5)\n",
        "\n",
        "model.fit(X_train_pca , y_train)\n",
        "\n",
        "y_pred = model.predict(X_test_pca)\n",
        "\n",
        "accuracy_score(y_test , y_pred)"
      ],
      "metadata": {
        "colab": {
          "base_uri": "https://localhost:8080/"
        },
        "id": "Pz3raPgZppCF",
        "outputId": "7cd99c58-1a6d-4063-a0d8-abe5c601d894"
      },
      "execution_count": 55,
      "outputs": [
        {
          "output_type": "execute_result",
          "data": {
            "text/plain": [
              "0.9649122807017544"
            ]
          },
          "metadata": {},
          "execution_count": 55
        }
      ]
    },
    {
      "cell_type": "code",
      "source": [
        "import plotly.express as px\n",
        "\n",
        "fig = px.scatter_3d(df , x='radius_mean' , y='texture_mean' , z='perimeter_mean' , color='diagnosis')"
      ],
      "metadata": {
        "id": "RYJjjGubpvi9"
      },
      "execution_count": 65,
      "outputs": []
    },
    {
      "cell_type": "code",
      "source": [
        "fig.show()"
      ],
      "metadata": {
        "colab": {
          "base_uri": "https://localhost:8080/",
          "height": 542
        },
        "id": "eMYgGxWLqVL6",
        "outputId": "5f096b12-0462-4b76-9940-386372286002"
      },
      "execution_count": 66,
      "outputs": [
        {
          "output_type": "display_data",
          "data": {
            "text/html": [
              "<html>\n",
              "<head><meta charset=\"utf-8\" /></head>\n",
              "<body>\n",
              "    <div>            <script src=\"https://cdnjs.cloudflare.com/ajax/libs/mathjax/2.7.5/MathJax.js?config=TeX-AMS-MML_SVG\"></script><script type=\"text/javascript\">if (window.MathJax && window.MathJax.Hub && window.MathJax.Hub.Config) {window.MathJax.Hub.Config({SVG: {font: \"STIX-Web\"}});}</script>                <script type=\"text/javascript\">window.PlotlyConfig = {MathJaxConfig: 'local'};</script>\n",
              "        <script charset=\"utf-8\" src=\"https://cdn.plot.ly/plotly-2.35.2.min.js\"></script>                <div id=\"ee0182f5-9e0c-496b-86cf-65570d6ed10e\" class=\"plotly-graph-div\" style=\"height:525px; width:100%;\"></div>            <script type=\"text/javascript\">                                    window.PLOTLYENV=window.PLOTLYENV || {};                                    if (document.getElementById(\"ee0182f5-9e0c-496b-86cf-65570d6ed10e\")) {                    Plotly.newPlot(                        \"ee0182f5-9e0c-496b-86cf-65570d6ed10e\",                        [{\"hovertemplate\":\"diagnosis=M\\u003cbr\\u003eradius_mean=%{x}\\u003cbr\\u003etexture_mean=%{y}\\u003cbr\\u003eperimeter_mean=%{z}\\u003cextra\\u003e\\u003c\\u002fextra\\u003e\",\"legendgroup\":\"M\",\"marker\":{\"color\":\"#636efa\",\"symbol\":\"circle\"},\"mode\":\"markers\",\"name\":\"M\",\"scene\":\"scene\",\"showlegend\":true,\"x\":[17.99,20.57,19.69,11.42,20.29,12.45,18.25,13.71,13.0,12.46,16.02,15.78,19.17,15.85,13.73,14.54,14.68,16.13,19.81,15.34,21.16,16.65,17.14,14.58,18.61,15.3,17.57,18.63,11.84,17.02,19.27,16.13,16.74,14.25,14.99,13.48,13.44,10.95,19.07,13.28,13.17,18.65,13.17,18.22,15.1,19.21,14.71,14.25,12.68,14.78,18.94,17.2,13.8,16.07,18.05,20.18,25.22,19.1,18.46,14.48,19.02,15.37,15.06,20.26,14.42,13.61,13.11,22.27,14.87,15.78,17.95,18.66,24.25,13.61,19.0,19.79,15.46,16.16,18.45,12.77,14.95,16.11,11.8,17.68,19.19,19.59,23.27,16.78,17.47,13.43,15.46,16.46,27.22,21.09,15.7,15.28,18.31,14.22,12.34,14.86,13.77,18.08,19.18,14.45,17.54,23.29,13.81,15.12,17.01,20.58,28.11,17.42,14.19,13.86,19.8,19.53,15.75,12.83,17.05,20.51,23.21,20.48,17.46,19.4,20.94,19.73,17.3,19.45,13.96,19.55,15.32,15.66,15.53,20.31,17.35,17.29,15.61,17.19,20.73,21.75,17.93,18.81,19.16,19.4,16.24,11.76,19.53,20.09,18.22,20.16,20.34,16.27,16.26,16.03,17.06,18.77,23.51,19.68,15.75,25.73,15.08,20.44,20.2,21.71,22.01,16.35,21.37,20.64,11.08,14.6,19.55,15.49,21.61,17.91,17.99,15.13,15.5,14.9,20.18,18.82,13.98,17.27,18.03,17.75,21.1,19.59,17.08,27.42,17.6,16.25,19.44,16.69,18.01,18.49,20.59,13.82,23.09,15.46,13.4,15.05,18.31,19.89,24.63,20.47,20.55,14.27,15.22,20.92,21.56,20.13,16.6,20.6],\"y\":[10.38,17.77,21.25,20.38,14.34,15.7,19.98,20.83,21.82,24.04,23.24,17.89,24.8,23.95,22.61,27.54,20.13,20.68,22.15,14.26,23.04,21.38,16.4,21.53,20.25,25.27,15.05,25.11,18.7,23.98,26.47,17.88,21.59,21.72,25.2,20.82,21.58,21.35,24.81,20.28,21.81,17.6,18.66,18.7,22.02,18.57,21.59,22.15,23.84,23.94,21.31,24.52,15.79,19.65,16.15,23.97,24.91,26.29,18.52,21.46,24.59,22.76,19.83,23.03,19.77,24.98,15.56,19.67,16.67,22.91,20.01,17.12,20.2,24.69,18.91,25.12,19.48,21.54,21.91,22.47,17.57,18.05,16.58,20.74,15.94,18.15,22.04,18.8,24.68,19.63,11.89,20.11,21.87,26.57,20.31,22.41,18.58,23.12,26.86,23.21,22.29,21.84,22.49,20.22,19.32,26.67,23.75,16.68,20.26,22.14,18.47,25.56,23.81,16.93,21.56,32.47,20.25,22.33,19.08,27.81,26.97,21.46,39.28,23.5,23.56,19.82,17.08,19.33,17.05,28.77,17.27,23.2,33.56,27.06,23.06,22.13,19.38,22.07,31.12,20.99,24.48,19.98,26.6,18.18,18.77,18.14,18.9,23.86,18.87,19.66,21.51,20.71,21.88,15.51,21.0,21.43,24.27,21.68,19.22,17.46,25.74,21.78,26.83,17.25,21.9,23.29,15.1,17.35,18.83,23.29,23.21,19.97,22.28,21.02,20.66,29.81,21.08,22.53,19.54,21.97,19.62,25.42,16.85,28.03,20.52,25.0,27.15,26.27,23.33,19.51,18.82,20.2,20.56,17.52,21.24,24.49,19.83,23.95,20.52,19.07,20.58,20.26,21.6,20.67,20.86,22.55,30.62,25.09,22.39,28.25,28.08,29.33],\"z\":[122.8,132.9,130.0,77.58,135.1,82.57,119.6,90.2,87.5,83.97,102.7,103.6,132.4,103.7,93.6,96.73,94.74,108.1,130.0,102.5,137.2,110.0,116.0,97.41,122.1,102.4,115.0,124.8,77.93,112.8,127.9,107.0,110.1,93.63,95.54,88.4,86.18,71.9,128.3,87.32,85.42,123.7,85.98,120.3,97.26,125.5,95.55,96.42,82.69,97.4,123.6,114.2,90.43,104.1,120.2,143.7,171.5,129.1,121.1,94.25,122.0,100.2,100.3,132.4,94.48,88.05,87.21,152.8,98.64,105.7,114.2,121.4,166.2,87.76,123.4,130.4,101.7,106.2,120.2,81.72,96.85,105.1,78.99,117.4,126.3,130.7,152.1,109.3,116.1,85.84,102.5,109.3,182.1,142.7,101.2,98.92,118.6,94.37,81.15,100.4,90.63,117.4,127.5,94.49,115.1,158.9,91.56,98.78,109.7,134.7,188.5,114.5,92.87,90.96,129.7,128.0,102.6,85.26,113.4,134.4,153.5,132.5,113.4,129.1,138.9,130.7,113.0,126.5,91.43,133.6,103.2,110.2,103.7,132.9,111.0,114.4,100.0,111.6,135.7,147.3,115.2,120.9,126.2,127.2,108.8,75.0,129.5,134.7,118.7,131.1,135.9,106.9,107.5,105.8,111.8,122.9,155.1,129.9,107.1,174.2,98.0,133.8,133.7,140.9,147.2,109.0,141.3,134.8,73.3,93.97,128.9,102.4,144.4,124.4,117.8,96.71,102.9,102.1,133.8,123.7,91.12,112.4,117.5,117.3,138.1,127.7,111.2,186.9,119.0,109.8,128.1,107.1,118.4,121.3,137.8,92.33,152.1,103.8,88.64,97.26,120.8,130.5,165.5,134.7,137.8,93.77,103.4,143.0,142.0,131.2,108.3,140.1],\"type\":\"scatter3d\"},{\"hovertemplate\":\"diagnosis=B\\u003cbr\\u003eradius_mean=%{x}\\u003cbr\\u003etexture_mean=%{y}\\u003cbr\\u003eperimeter_mean=%{z}\\u003cextra\\u003e\\u003c\\u002fextra\\u003e\",\"legendgroup\":\"B\",\"marker\":{\"color\":\"#EF553B\",\"symbol\":\"circle\"},\"mode\":\"markers\",\"name\":\"B\",\"scene\":\"scene\",\"showlegend\":true,\"x\":[13.54,13.08,9.504,13.03,8.196,12.05,13.49,11.76,13.64,11.94,11.52,13.05,8.618,10.17,8.598,9.173,9.465,11.31,9.029,12.78,8.888,12.31,13.53,12.86,11.45,13.34,12.0,12.36,14.64,14.62,13.27,13.45,12.18,9.787,11.6,6.981,12.18,9.876,10.49,11.64,12.36,11.34,9.777,12.63,14.26,10.51,8.726,11.93,8.95,11.41,14.5,13.37,13.85,15.1,12.19,15.71,11.71,11.43,11.28,9.738,11.43,12.9,10.75,11.9,14.95,14.44,13.74,13.0,8.219,9.731,11.15,13.15,12.25,16.84,12.06,10.9,11.75,12.34,14.97,10.8,14.97,12.32,11.08,10.66,8.671,9.904,13.01,12.81,11.41,10.08,11.71,11.81,12.3,12.77,9.72,12.91,12.23,12.47,9.876,13.11,15.27,11.84,11.89,10.2,13.65,13.56,10.18,13.27,14.34,10.44,15.0,12.62,11.32,11.22,9.567,14.03,14.22,13.64,12.42,11.3,13.75,10.48,13.2,12.89,10.65,11.52,11.5,10.6,13.59,12.87,10.71,14.29,11.29,9.742,11.89,11.33,13.59,13.85,11.74,12.89,12.58,11.94,12.89,11.26,11.37,14.41,14.96,12.95,11.85,12.72,13.77,10.91,14.26,10.51,12.46,10.49,11.46,11.6,13.2,9.0,13.5,13.05,11.7,14.61,12.76,11.54,8.597,12.49,12.18,9.042,12.43,10.25,12.86,12.2,12.67,14.11,12.03,12.98,11.22,11.25,12.3,12.99,10.05,14.42,9.606,11.06,11.71,10.26,12.06,14.76,11.47,11.95,11.66,11.14,12.56,13.05,13.87,8.878,9.436,12.54,13.3,12.76,16.5,13.4,12.21,15.19,13.69,16.17,10.57,13.46,13.66,11.27,11.04,12.05,12.39,13.28,12.21,13.88,11.27,10.26,8.734,12.1,14.06,13.51,12.8,11.06,11.8,11.93,12.96,12.94,12.34,10.94,16.14,12.85,12.27,11.36,11.04,9.397,14.99,11.89,9.405,12.7,11.16,11.57,14.69,11.61,13.66,9.742,10.03,10.48,10.8,11.13,12.72,12.4,14.86,12.87,14.04,13.85,14.02,10.97,13.78,10.57,11.99,14.8,14.53,11.87,12.0,14.53,12.62,13.38,11.63,13.21,13.0,9.755,14.4,11.6,13.17,13.24,13.14,9.668,11.62,9.667,12.04,14.92,12.27,10.88,12.83,14.2,13.9,11.49,12.16,13.9,13.47,13.7,15.73,12.45,14.64,11.68,12.25,17.85,12.46,13.16,14.87,12.65,12.47,15.04,12.54,9.268,9.676,12.22,11.06,16.3,11.74,14.81,14.58,11.34,12.88,12.75,9.295,11.26,13.71,9.847,8.571,13.46,12.34,13.94,12.07,11.75,11.67,13.68,10.96,11.69,7.729,7.691,11.54,14.47,14.74,13.21,13.87,13.62,10.32,10.26,9.683,10.82,10.86,11.13,12.77,9.333,12.88,10.29,10.16,9.423,14.59,11.51,14.05,11.2,7.76],\"y\":[14.36,15.71,12.44,18.42,16.84,14.63,22.3,21.6,16.34,18.24,18.75,19.31,11.79,14.88,20.98,13.86,21.01,19.04,17.33,16.49,14.64,16.52,10.94,18.0,20.97,15.86,15.65,21.8,15.24,24.02,14.76,18.3,17.84,19.94,12.84,13.43,20.52,19.4,19.29,18.33,18.54,21.26,16.99,20.76,19.65,20.19,15.83,21.53,15.76,10.82,10.89,16.39,17.21,16.39,13.29,13.93,16.67,15.39,13.39,11.97,17.31,15.92,14.97,14.65,18.77,15.18,17.91,20.78,20.7,15.34,13.08,15.34,17.94,19.46,12.74,12.96,20.18,22.22,19.76,9.71,16.95,12.39,14.71,15.15,14.45,18.06,22.22,13.06,14.92,15.11,17.19,17.39,15.9,21.41,18.22,16.33,19.56,18.6,17.27,22.54,12.91,18.94,18.35,17.48,13.16,13.9,17.53,17.02,13.47,15.46,15.51,23.97,27.08,33.81,15.91,21.25,27.85,15.6,15.04,18.19,23.77,19.86,17.43,14.11,25.22,14.93,18.45,18.95,21.84,16.21,20.39,16.82,13.04,15.67,17.36,14.16,17.84,15.18,14.02,15.7,18.4,20.76,13.12,19.96,18.89,19.73,19.1,16.02,17.46,13.78,13.27,12.35,18.17,23.09,19.89,18.61,18.16,24.49,15.82,14.4,12.71,13.84,19.11,15.69,13.37,10.72,18.6,16.85,14.08,18.9,17.0,16.18,13.32,15.21,17.3,12.88,17.93,19.35,19.86,14.78,19.02,14.23,17.53,16.54,16.84,14.96,15.45,14.71,18.9,14.74,16.03,14.96,17.07,14.07,19.07,18.59,16.21,15.49,18.32,18.07,21.57,18.84,18.29,16.95,18.02,13.21,16.07,16.07,20.22,28.21,15.15,12.96,14.93,22.72,17.48,13.72,14.09,16.16,15.5,12.22,16.84,17.72,17.18,18.89,17.46,14.83,17.26,10.91,18.29,16.17,14.95,18.59,14.86,21.37,17.92,17.57,16.83,21.68,22.11,21.17,21.7,12.17,21.41,19.04,13.98,16.02,19.13,19.12,21.28,14.98,21.98,16.62,17.67,17.68,16.94,19.54,15.98,19.6,15.66,17.2,15.79,18.32,24.89,17.66,19.34,21.54,28.23,13.98,17.15,30.72,29.29,25.25,25.13,28.2,26.99,18.36,18.22,20.13,20.74,18.1,18.18,18.49,28.14,14.93,29.97,15.62,15.73,20.53,16.62,14.59,18.03,19.24,14.06,17.64,11.28,16.41,16.85,16.17,22.44,13.23,12.83,20.54,20.21,18.17,17.31,16.74,16.32,12.87,13.14,20.04,17.12,15.7,14.69,14.7,13.66,18.61,18.22,16.7,13.9,19.83,18.68,15.68,13.1,18.75,12.27,13.17,13.44,17.56,20.02,16.33,17.62,24.44,25.49,25.44,14.44,24.99,25.42,28.06,20.7,23.23,16.35,16.58,19.34,24.21,21.48,22.44,29.43,21.94,28.92,27.61,19.59,27.88,22.68,23.93,27.15,29.37,24.54],\"z\":[87.46,85.63,60.34,82.61,51.71,78.04,86.91,74.72,87.21,75.71,73.34,82.61,54.34,64.55,54.66,59.2,60.11,71.8,58.79,81.37,58.79,79.19,87.91,83.19,73.81,86.49,76.95,79.78,95.77,94.57,84.74,86.6,77.79,62.11,74.34,43.79,77.22,63.95,67.41,75.17,79.01,72.48,62.5,82.15,97.83,68.64,55.84,76.53,58.74,73.34,94.28,86.1,88.44,99.58,79.08,102.0,74.72,73.06,73.0,61.24,73.66,83.74,68.26,78.11,97.84,93.97,88.12,83.51,53.27,63.78,70.87,85.31,78.27,108.4,76.84,68.69,76.1,79.85,95.5,68.77,96.22,78.85,70.21,67.49,54.42,64.6,82.01,81.29,73.53,63.76,74.68,75.27,78.83,82.02,60.73,82.53,78.54,81.09,62.92,87.02,98.17,75.51,77.32,65.05,87.88,88.59,65.12,84.55,92.51,66.62,97.45,81.35,71.76,70.79,60.21,89.79,92.55,87.38,78.61,73.93,88.54,66.72,84.13,84.95,68.01,73.87,73.28,69.28,87.16,82.38,69.5,90.3,72.23,61.5,76.2,71.79,86.24,88.99,74.24,84.08,79.83,77.87,81.89,73.72,72.17,96.03,97.03,83.14,75.54,81.78,88.06,69.14,91.22,66.85,80.43,66.86,73.59,74.23,84.07,56.36,85.69,82.71,74.33,92.68,82.29,73.73,54.09,79.19,77.25,60.07,78.6,66.52,82.82,78.01,81.25,90.03,76.09,84.52,71.94,71.38,77.88,84.08,64.41,94.15,61.64,71.49,75.03,66.2,76.66,94.87,73.02,77.23,73.7,71.24,81.92,85.09,88.52,56.74,59.82,79.42,85.24,81.87,106.6,85.48,78.31,97.65,87.84,106.3,70.15,85.89,88.27,73.16,70.67,78.75,80.64,85.79,78.78,88.37,73.38,65.75,55.27,78.07,89.75,88.1,83.05,70.31,75.26,76.14,84.18,83.18,78.29,70.39,104.3,82.63,78.41,72.49,70.92,59.75,97.53,76.39,59.6,80.88,70.95,74.2,98.22,75.46,89.46,61.93,63.19,67.49,68.79,70.47,80.98,81.47,94.89,82.67,89.78,88.68,89.59,71.73,88.37,66.82,77.61,95.88,94.25,76.83,76.77,93.86,80.62,86.34,74.87,84.1,82.61,61.68,92.25,73.88,84.28,86.87,85.98,61.06,76.38,61.49,76.85,96.45,77.42,70.41,82.89,92.41,88.97,73.99,78.29,88.73,87.32,87.76,102.8,82.85,94.21,75.49,78.18,114.6,78.83,84.06,96.12,82.69,80.45,98.73,81.25,61.49,64.12,79.47,71.25,104.7,76.31,94.66,94.29,72.76,84.45,82.51,59.96,71.3,88.73,63.0,54.53,87.44,78.94,90.31,77.83,75.89,75.21,87.76,70.79,76.37,47.98,48.34,74.65,95.81,94.7,84.88,89.77,87.19,65.31,65.85,61.05,68.89,68.51,71.49,81.35,59.01,82.5,65.67,64.73,59.26,96.39,74.52,91.38,70.67,47.92],\"type\":\"scatter3d\"}],                        {\"template\":{\"data\":{\"histogram2dcontour\":[{\"type\":\"histogram2dcontour\",\"colorbar\":{\"outlinewidth\":0,\"ticks\":\"\"},\"colorscale\":[[0.0,\"#0d0887\"],[0.1111111111111111,\"#46039f\"],[0.2222222222222222,\"#7201a8\"],[0.3333333333333333,\"#9c179e\"],[0.4444444444444444,\"#bd3786\"],[0.5555555555555556,\"#d8576b\"],[0.6666666666666666,\"#ed7953\"],[0.7777777777777778,\"#fb9f3a\"],[0.8888888888888888,\"#fdca26\"],[1.0,\"#f0f921\"]]}],\"choropleth\":[{\"type\":\"choropleth\",\"colorbar\":{\"outlinewidth\":0,\"ticks\":\"\"}}],\"histogram2d\":[{\"type\":\"histogram2d\",\"colorbar\":{\"outlinewidth\":0,\"ticks\":\"\"},\"colorscale\":[[0.0,\"#0d0887\"],[0.1111111111111111,\"#46039f\"],[0.2222222222222222,\"#7201a8\"],[0.3333333333333333,\"#9c179e\"],[0.4444444444444444,\"#bd3786\"],[0.5555555555555556,\"#d8576b\"],[0.6666666666666666,\"#ed7953\"],[0.7777777777777778,\"#fb9f3a\"],[0.8888888888888888,\"#fdca26\"],[1.0,\"#f0f921\"]]}],\"heatmap\":[{\"type\":\"heatmap\",\"colorbar\":{\"outlinewidth\":0,\"ticks\":\"\"},\"colorscale\":[[0.0,\"#0d0887\"],[0.1111111111111111,\"#46039f\"],[0.2222222222222222,\"#7201a8\"],[0.3333333333333333,\"#9c179e\"],[0.4444444444444444,\"#bd3786\"],[0.5555555555555556,\"#d8576b\"],[0.6666666666666666,\"#ed7953\"],[0.7777777777777778,\"#fb9f3a\"],[0.8888888888888888,\"#fdca26\"],[1.0,\"#f0f921\"]]}],\"heatmapgl\":[{\"type\":\"heatmapgl\",\"colorbar\":{\"outlinewidth\":0,\"ticks\":\"\"},\"colorscale\":[[0.0,\"#0d0887\"],[0.1111111111111111,\"#46039f\"],[0.2222222222222222,\"#7201a8\"],[0.3333333333333333,\"#9c179e\"],[0.4444444444444444,\"#bd3786\"],[0.5555555555555556,\"#d8576b\"],[0.6666666666666666,\"#ed7953\"],[0.7777777777777778,\"#fb9f3a\"],[0.8888888888888888,\"#fdca26\"],[1.0,\"#f0f921\"]]}],\"contourcarpet\":[{\"type\":\"contourcarpet\",\"colorbar\":{\"outlinewidth\":0,\"ticks\":\"\"}}],\"contour\":[{\"type\":\"contour\",\"colorbar\":{\"outlinewidth\":0,\"ticks\":\"\"},\"colorscale\":[[0.0,\"#0d0887\"],[0.1111111111111111,\"#46039f\"],[0.2222222222222222,\"#7201a8\"],[0.3333333333333333,\"#9c179e\"],[0.4444444444444444,\"#bd3786\"],[0.5555555555555556,\"#d8576b\"],[0.6666666666666666,\"#ed7953\"],[0.7777777777777778,\"#fb9f3a\"],[0.8888888888888888,\"#fdca26\"],[1.0,\"#f0f921\"]]}],\"surface\":[{\"type\":\"surface\",\"colorbar\":{\"outlinewidth\":0,\"ticks\":\"\"},\"colorscale\":[[0.0,\"#0d0887\"],[0.1111111111111111,\"#46039f\"],[0.2222222222222222,\"#7201a8\"],[0.3333333333333333,\"#9c179e\"],[0.4444444444444444,\"#bd3786\"],[0.5555555555555556,\"#d8576b\"],[0.6666666666666666,\"#ed7953\"],[0.7777777777777778,\"#fb9f3a\"],[0.8888888888888888,\"#fdca26\"],[1.0,\"#f0f921\"]]}],\"mesh3d\":[{\"type\":\"mesh3d\",\"colorbar\":{\"outlinewidth\":0,\"ticks\":\"\"}}],\"scatter\":[{\"fillpattern\":{\"fillmode\":\"overlay\",\"size\":10,\"solidity\":0.2},\"type\":\"scatter\"}],\"parcoords\":[{\"type\":\"parcoords\",\"line\":{\"colorbar\":{\"outlinewidth\":0,\"ticks\":\"\"}}}],\"scatterpolargl\":[{\"type\":\"scatterpolargl\",\"marker\":{\"colorbar\":{\"outlinewidth\":0,\"ticks\":\"\"}}}],\"bar\":[{\"error_x\":{\"color\":\"#2a3f5f\"},\"error_y\":{\"color\":\"#2a3f5f\"},\"marker\":{\"line\":{\"color\":\"#E5ECF6\",\"width\":0.5},\"pattern\":{\"fillmode\":\"overlay\",\"size\":10,\"solidity\":0.2}},\"type\":\"bar\"}],\"scattergeo\":[{\"type\":\"scattergeo\",\"marker\":{\"colorbar\":{\"outlinewidth\":0,\"ticks\":\"\"}}}],\"scatterpolar\":[{\"type\":\"scatterpolar\",\"marker\":{\"colorbar\":{\"outlinewidth\":0,\"ticks\":\"\"}}}],\"histogram\":[{\"marker\":{\"pattern\":{\"fillmode\":\"overlay\",\"size\":10,\"solidity\":0.2}},\"type\":\"histogram\"}],\"scattergl\":[{\"type\":\"scattergl\",\"marker\":{\"colorbar\":{\"outlinewidth\":0,\"ticks\":\"\"}}}],\"scatter3d\":[{\"type\":\"scatter3d\",\"line\":{\"colorbar\":{\"outlinewidth\":0,\"ticks\":\"\"}},\"marker\":{\"colorbar\":{\"outlinewidth\":0,\"ticks\":\"\"}}}],\"scattermapbox\":[{\"type\":\"scattermapbox\",\"marker\":{\"colorbar\":{\"outlinewidth\":0,\"ticks\":\"\"}}}],\"scatterternary\":[{\"type\":\"scatterternary\",\"marker\":{\"colorbar\":{\"outlinewidth\":0,\"ticks\":\"\"}}}],\"scattercarpet\":[{\"type\":\"scattercarpet\",\"marker\":{\"colorbar\":{\"outlinewidth\":0,\"ticks\":\"\"}}}],\"carpet\":[{\"aaxis\":{\"endlinecolor\":\"#2a3f5f\",\"gridcolor\":\"white\",\"linecolor\":\"white\",\"minorgridcolor\":\"white\",\"startlinecolor\":\"#2a3f5f\"},\"baxis\":{\"endlinecolor\":\"#2a3f5f\",\"gridcolor\":\"white\",\"linecolor\":\"white\",\"minorgridcolor\":\"white\",\"startlinecolor\":\"#2a3f5f\"},\"type\":\"carpet\"}],\"table\":[{\"cells\":{\"fill\":{\"color\":\"#EBF0F8\"},\"line\":{\"color\":\"white\"}},\"header\":{\"fill\":{\"color\":\"#C8D4E3\"},\"line\":{\"color\":\"white\"}},\"type\":\"table\"}],\"barpolar\":[{\"marker\":{\"line\":{\"color\":\"#E5ECF6\",\"width\":0.5},\"pattern\":{\"fillmode\":\"overlay\",\"size\":10,\"solidity\":0.2}},\"type\":\"barpolar\"}],\"pie\":[{\"automargin\":true,\"type\":\"pie\"}]},\"layout\":{\"autotypenumbers\":\"strict\",\"colorway\":[\"#636efa\",\"#EF553B\",\"#00cc96\",\"#ab63fa\",\"#FFA15A\",\"#19d3f3\",\"#FF6692\",\"#B6E880\",\"#FF97FF\",\"#FECB52\"],\"font\":{\"color\":\"#2a3f5f\"},\"hovermode\":\"closest\",\"hoverlabel\":{\"align\":\"left\"},\"paper_bgcolor\":\"white\",\"plot_bgcolor\":\"#E5ECF6\",\"polar\":{\"bgcolor\":\"#E5ECF6\",\"angularaxis\":{\"gridcolor\":\"white\",\"linecolor\":\"white\",\"ticks\":\"\"},\"radialaxis\":{\"gridcolor\":\"white\",\"linecolor\":\"white\",\"ticks\":\"\"}},\"ternary\":{\"bgcolor\":\"#E5ECF6\",\"aaxis\":{\"gridcolor\":\"white\",\"linecolor\":\"white\",\"ticks\":\"\"},\"baxis\":{\"gridcolor\":\"white\",\"linecolor\":\"white\",\"ticks\":\"\"},\"caxis\":{\"gridcolor\":\"white\",\"linecolor\":\"white\",\"ticks\":\"\"}},\"coloraxis\":{\"colorbar\":{\"outlinewidth\":0,\"ticks\":\"\"}},\"colorscale\":{\"sequential\":[[0.0,\"#0d0887\"],[0.1111111111111111,\"#46039f\"],[0.2222222222222222,\"#7201a8\"],[0.3333333333333333,\"#9c179e\"],[0.4444444444444444,\"#bd3786\"],[0.5555555555555556,\"#d8576b\"],[0.6666666666666666,\"#ed7953\"],[0.7777777777777778,\"#fb9f3a\"],[0.8888888888888888,\"#fdca26\"],[1.0,\"#f0f921\"]],\"sequentialminus\":[[0.0,\"#0d0887\"],[0.1111111111111111,\"#46039f\"],[0.2222222222222222,\"#7201a8\"],[0.3333333333333333,\"#9c179e\"],[0.4444444444444444,\"#bd3786\"],[0.5555555555555556,\"#d8576b\"],[0.6666666666666666,\"#ed7953\"],[0.7777777777777778,\"#fb9f3a\"],[0.8888888888888888,\"#fdca26\"],[1.0,\"#f0f921\"]],\"diverging\":[[0,\"#8e0152\"],[0.1,\"#c51b7d\"],[0.2,\"#de77ae\"],[0.3,\"#f1b6da\"],[0.4,\"#fde0ef\"],[0.5,\"#f7f7f7\"],[0.6,\"#e6f5d0\"],[0.7,\"#b8e186\"],[0.8,\"#7fbc41\"],[0.9,\"#4d9221\"],[1,\"#276419\"]]},\"xaxis\":{\"gridcolor\":\"white\",\"linecolor\":\"white\",\"ticks\":\"\",\"title\":{\"standoff\":15},\"zerolinecolor\":\"white\",\"automargin\":true,\"zerolinewidth\":2},\"yaxis\":{\"gridcolor\":\"white\",\"linecolor\":\"white\",\"ticks\":\"\",\"title\":{\"standoff\":15},\"zerolinecolor\":\"white\",\"automargin\":true,\"zerolinewidth\":2},\"scene\":{\"xaxis\":{\"backgroundcolor\":\"#E5ECF6\",\"gridcolor\":\"white\",\"linecolor\":\"white\",\"showbackground\":true,\"ticks\":\"\",\"zerolinecolor\":\"white\",\"gridwidth\":2},\"yaxis\":{\"backgroundcolor\":\"#E5ECF6\",\"gridcolor\":\"white\",\"linecolor\":\"white\",\"showbackground\":true,\"ticks\":\"\",\"zerolinecolor\":\"white\",\"gridwidth\":2},\"zaxis\":{\"backgroundcolor\":\"#E5ECF6\",\"gridcolor\":\"white\",\"linecolor\":\"white\",\"showbackground\":true,\"ticks\":\"\",\"zerolinecolor\":\"white\",\"gridwidth\":2}},\"shapedefaults\":{\"line\":{\"color\":\"#2a3f5f\"}},\"annotationdefaults\":{\"arrowcolor\":\"#2a3f5f\",\"arrowhead\":0,\"arrowwidth\":1},\"geo\":{\"bgcolor\":\"white\",\"landcolor\":\"#E5ECF6\",\"subunitcolor\":\"white\",\"showland\":true,\"showlakes\":true,\"lakecolor\":\"white\"},\"title\":{\"x\":0.05},\"mapbox\":{\"style\":\"light\"}}},\"scene\":{\"domain\":{\"x\":[0.0,1.0],\"y\":[0.0,1.0]},\"xaxis\":{\"title\":{\"text\":\"radius_mean\"}},\"yaxis\":{\"title\":{\"text\":\"texture_mean\"}},\"zaxis\":{\"title\":{\"text\":\"perimeter_mean\"}}},\"legend\":{\"title\":{\"text\":\"diagnosis\"},\"tracegroupgap\":0},\"margin\":{\"t\":60}},                        {\"responsive\": true}                    ).then(function(){\n",
              "                            \n",
              "var gd = document.getElementById('ee0182f5-9e0c-496b-86cf-65570d6ed10e');\n",
              "var x = new MutationObserver(function (mutations, observer) {{\n",
              "        var display = window.getComputedStyle(gd).display;\n",
              "        if (!display || display === 'none') {{\n",
              "            console.log([gd, 'removed!']);\n",
              "            Plotly.purge(gd);\n",
              "            observer.disconnect();\n",
              "        }}\n",
              "}});\n",
              "\n",
              "// Listen for the removal of the full notebook cells\n",
              "var notebookContainer = gd.closest('#notebook-container');\n",
              "if (notebookContainer) {{\n",
              "    x.observe(notebookContainer, {childList: true});\n",
              "}}\n",
              "\n",
              "// Listen for the clearing of the current output cell\n",
              "var outputEl = gd.closest('.output');\n",
              "if (outputEl) {{\n",
              "    x.observe(outputEl, {childList: true});\n",
              "}}\n",
              "\n",
              "                        })                };                            </script>        </div>\n",
              "</body>\n",
              "</html>"
            ]
          },
          "metadata": {}
        }
      ]
    },
    {
      "cell_type": "code",
      "source": [
        "new_df = pd.DataFrame(X_train_pca , columns=['PC1' , 'PC2' , 'PC3' , 'PC4' , 'PC5' , 'PC6' , 'PC7'])\n",
        "new_df['diagnosis'] = y_train"
      ],
      "metadata": {
        "id": "qHnYygr8soJ6"
      },
      "execution_count": 74,
      "outputs": []
    },
    {
      "cell_type": "code",
      "source": [
        "px.scatter_3d(new_df , x='PC1' , y='PC2' , z='PC3' , color='diagnosis')"
      ],
      "metadata": {
        "colab": {
          "base_uri": "https://localhost:8080/",
          "height": 542
        },
        "id": "N1stUXG5r9_u",
        "outputId": "727518f7-6622-49f5-e69a-10aee6182541"
      },
      "execution_count": 78,
      "outputs": [
        {
          "output_type": "display_data",
          "data": {
            "text/html": [
              "<html>\n",
              "<head><meta charset=\"utf-8\" /></head>\n",
              "<body>\n",
              "    <div>            <script src=\"https://cdnjs.cloudflare.com/ajax/libs/mathjax/2.7.5/MathJax.js?config=TeX-AMS-MML_SVG\"></script><script type=\"text/javascript\">if (window.MathJax && window.MathJax.Hub && window.MathJax.Hub.Config) {window.MathJax.Hub.Config({SVG: {font: \"STIX-Web\"}});}</script>                <script type=\"text/javascript\">window.PlotlyConfig = {MathJaxConfig: 'local'};</script>\n",
              "        <script charset=\"utf-8\" src=\"https://cdn.plot.ly/plotly-2.35.2.min.js\"></script>                <div id=\"b6c090ee-f5aa-4584-94aa-7ca1e1afc0ee\" class=\"plotly-graph-div\" style=\"height:525px; width:100%;\"></div>            <script type=\"text/javascript\">                                    window.PLOTLYENV=window.PLOTLYENV || {};                                    if (document.getElementById(\"b6c090ee-f5aa-4584-94aa-7ca1e1afc0ee\")) {                    Plotly.newPlot(                        \"b6c090ee-f5aa-4584-94aa-7ca1e1afc0ee\",                        [{\"hovertemplate\":\"diagnosis=nan\\u003cbr\\u003ePC1=%{x}\\u003cbr\\u003ePC2=%{y}\\u003cbr\\u003ePC3=%{z}\\u003cextra\\u003e\\u003c\\u002fextra\\u003e\",\"legendgroup\":\"nan\",\"marker\":{\"color\":\"#636efa\",\"symbol\":\"circle\"},\"mode\":\"markers\",\"name\":\"nan\",\"scene\":\"scene\",\"showlegend\":true,\"x\":[-3.0848417991769965,-2.182646812236089,2.0499588671915276,-2.809267330085193,-1.913537124576267,-0.8487644681222863,-0.37827497070634775,-2.7143483483133943,-1.177950472686396,-0.598810752974228,-2.902980206725411,-2.5165023780426523,1.353549212492602,3.714464299567428,2.19303422677852,1.0850740455250125,-1.2087948161687787,2.8823048729374863,-1.3238247347290875,4.6738564693681015,-2.556432361854829,-1.4279598728673628,-4.6839439065832,-2.9316505462947795,0.02660852737626423,-1.5190221049779036,-4.041913562089752,7.174005212107419,-3.8212425807997015,-3.339155795151844,-1.041319252637572,9.247201489384294,-2.6266915739306587,5.030560441922366,4.952084645580665,-3.077734393533324,-3.3776178865290114,-0.9311963448481366,-0.5930563334504695,-2.646423635094887,-3.432997119237537,-1.2215383560953945,-4.622623303445876,2.997516835552383,-1.2832442987286772,-2.885615599380708,-3.436510777990796,-3.268249822243938,-3.996229091270924,2.247193088670147,-1.4322951812033005,4.9749662555234595,4.503212817909205,-2.2461100630874227,-2.7246884516092007,7.677499328810163,-2.781414624782014,-4.795469948738974,-2.8957656194014043,-1.1619959095007149,-1.1483650963380374,-3.4336853309183177,-2.989327444777323,0.6557100720840129,2.857699467845026,9.5804734028682,-2.4250796379255584,-2.885106585702944,4.214410727113176,-1.6738865230953555,-3.2141555812252336,1.8319885507641396,-3.514219156092691,2.477324783119119,-2.0830308427644675,5.461250263176652,-2.4251644041258964,-1.914408501110733,-3.3389346583132613,0.3209308090143402,0.24456097012042557,-2.1380632395537167,-3.8311548536977815,-0.2430456737811468,7.346180727907584,-1.3572831234666949,3.3786697845473435,-0.8263212374254144,3.644310440105458,-3.558657025065655,2.877921839681931,-3.704114322853644,-0.7273177182755293,2.6210161230382503,-2.3274833783098314,-5.373751197316619,-1.0297319577840336,-2.1662795576299216,2.7176226547913283,-0.20113497788064355,-3.509961010476031,-0.6597500616070999,5.076886726773594,-0.3928392366430069,-2.966276961418721,1.894021898596314,7.310435669506471,-0.4581377147838939,7.250253119848678,-3.253551598280846,-3.36284989352764,-2.0527384796508628,-1.9647788800408277,-2.631903154562403,-0.32274617841531666,-4.250957575170325,0.9225483503674609,-2.0565739676037045,-2.2140206413137467,-2.25635007807976,-0.7391243563543591,-4.7921153866978,4.3530165643221785,-0.7652258654561844,-1.983252505401642,-3.011670659228368,1.3835600236232126,-1.9685806362696006,1.3536553621912653,5.161439264627182,-4.164740780035242,-0.021463430158073542,2.3175816497758337,-4.63383683395784,3.3205865084509174,1.0004341581834317,-2.397018044828643,-1.3873342521838805,-1.416773809764124,0.7416918522898726,-1.079419699237324,-1.8850312662279674,-5.3909109085469025,3.5224582977870735,1.713170397751763,2.587971989880245,-2.508014634094556,0.45127306882079365,-3.067822651430647,10.996880053052557,-0.760256438564692,8.641590748455858,-2.584657990778125,-1.8245555743740212,3.4224919350223546,4.845593353997952,-3.8959334028898107,-3.1782810631405085,4.089017192927227,-2.8381319309242694,4.645158996360478,13.103608637553922,-2.677930215999331,9.219206047185136,7.377856247353544,-3.195026970336295,-0.07909231027505055,2.727923016231643,4.513792729837868,5.200864075695274,2.3972861824869978,-1.9096616243896918,-3.1766454097792787,-2.5306173393299383,1.861587053283876,-2.050467738485975,3.3401697172896667,4.319113248327605,4.760892428833501,-0.7251350495575309,-3.0391531459933216,-2.4667182959796055,1.4170488621135027,0.4472453361352585,-2.6084351258585086,-2.45400437748153,-3.4004901005635473,-2.157007259323943,2.5921466743786516,3.513954282711285,3.715920262386758,-4.119860218892988,3.466390998876446,-2.509881038993996,-2.3209879244284024,-3.6018998886814493,0.2272669679658983,-3.805111803335485,3.347856535137989,-3.915236384254648,-0.3695136519382697,5.50352287477112,1.9128385702689041,-2.5848578767450294,1.2792753896528013,-2.135812941593052,8.88047341073276,-3.6335515060323944,-2.050289177064615,-2.9899815558942295,-3.975016428210098,2.1644158716710318,-2.496917050796849,3.140591462406513,-3.995255293447416,-1.2391253377781783,1.9276274501632156,-0.9668703895942791,-4.143525131130289,-3.261388973589738,1.186296749706036,-3.159045452998714,-1.2026598068544538,6.44558896069135,-0.7026136759091193,-1.5477856107366146,-0.2544594071235665,-1.9785824377485723,1.8999959928363794,2.7182989826756185,3.3327936347234153,1.4463472181370405,0.36499226354010045,-1.4164359945311142,-4.7402610325648045,8.311731753565638,2.850372695886011,4.1238773665416275,-2.5121456258031936,-2.423329453971438,-1.7058336808919075,-3.314293129079858,-1.2148815036848601,-0.956136038774525,-2.294286966509327,4.4673257655295755,-3.1926526442045446,-2.2396742089687423,-0.06086938280339615,6.397183155820851,-3.8263699882355686,-5.0051499905823205,3.96069930776351,-0.0018849087226407485,-3.366693304876506,4.255688816825788,-3.417591248856041,4.232379320890286,3.8504695282928263,-2.9844549303781376,-1.9016363271671772,3.7194927810468745,-1.2047555236552683,3.9419677960153723,6.446765871065186,-2.084594743761238,5.118311851697639,-0.3956650172837825,-3.914969830901065,-0.19561622907256798,3.4820450655606754,-3.221066139822919,-0.9440494549636591,-2.844758595131884,-1.3963088276530156,1.4079928675936992,-2.502616723152899,-1.1524907154319302,1.791408770658145,4.686449693864653,5.979984589068875,-1.9740157418823538,-4.683755042569542,-1.439413463239142,2.192469580010735,3.107168431377262,-2.1838474940089134,3.350880951291101,3.438838568298664,-1.5991697659896678,0.5299013858949203,-2.9637871258947572,6.224839242836552,-3.565974352677061,2.730740674083231,3.8325848075046545,4.8576218625927385,-1.9409848242404402,1.4635740675448445,-2.8621589825612817,3.3150426614235786,-3.189943383072306,-2.176934552740739,1.76967533251471,6.603970238599471,4.502653609842098,4.14796695628073,-2.141144660432799,3.941195781720006,-2.842642027715579,-4.064051311624769,-0.3021262332575382,-1.9112537029732597,-1.854161672080394,-3.4620113976447455,-4.452060300924843,4.746555604281861,8.420768431034855,0.44432303678073337,12.051088029146271,-3.356400018516231,0.44292818844598164,-3.041578401060432,-0.4437126322550271,16.13112997577696,-1.8224438730971204,1.2869652853836144,-3.5561117175249866,-4.080526492124959,-0.6759034064647537,-2.2412046511756833,-1.207143384245914,1.6773353196429381,3.3575506101364097,1.039509278333942,-2.7116359601645628,-3.4526607685350377,6.784520875459668,-0.5134376366841026,-4.104256732028365,3.840174191934218,3.302879799501766,4.848521209935234,2.359938858420939,-2.484985243255343,-1.5691201691118632,-0.2340115510878715,3.0582195734397963,-1.1760885591145023,-2.2618681105835856,-2.840353376629073,6.320560159596521,0.3166394272737974,7.349640757680349,-2.344117302716698,-4.518288080624675,0.409751494278287,-4.933429416713859,-3.4682144795718015,-3.608180824274102,-4.4503072686094605,8.816411012177054,-0.03497300348013691,-2.097829524432829,1.3463309552979563,-1.8423017858035364,-3.3612104153472635,-1.9867729800320635,-1.8853022644350577,-3.739309401020321,-1.9858210807641368,7.15454244273098,-3.564485143105588,-4.078373909336087,-4.044879757651295,-0.5238050416941841,-4.3418901998365005,-1.7270822936250247,-0.48477052601925336,0.2172753782965658,-1.7227415816487508,5.12524098671893,-4.732858869344829,-1.870257670629406,0.7032584245703822,3.71283125423141,3.6465577484952485,-3.1718295842261814,1.8381057479786467,2.676720071426219,-0.37863753935029876,3.368171350305365,-1.5690127302410626,-0.30751395578855795,-0.686018581805429,-4.553716082911361,0.7204235553205569,-3.4193685425395044],\"y\":[2.1587044578028043,0.61757115524102,-2.32895330977748,0.9507913187602993,1.0725818328689485,3.4197371490117026,0.5489225069694124,0.16749595418294083,0.4836078632585482,-0.6977177989187752,0.4050614413667501,-3.2722283754951125,1.2337210660005782,1.0061195039210846,-2.4232034996664815,-1.2121389879359532,0.19695666305196147,-1.2816702417169492,-0.46580072873484374,2.2796812954197776,0.7049217498435935,-0.6357673191744836,0.7718614753609846,-0.34919303542488744,3.4396696599821532,1.1151493274646014,-1.138692490521887,-1.9953949140837257,0.2589971976923351,3.125938161963642,-5.6944340294961115,-2.074028612620592,1.1002796635684498,1.235431450485339,2.789193465204137,0.1169896816669394,0.5265533316716617,-0.9049382170604041,0.8166152351480408,-2.352138551359566,-1.811443580861182,-4.1198226613774835,0.2691267023049629,-4.067769754099239,-3.6038723412189055,0.46110129254635546,-1.5986075818706635,-0.21147925016577263,1.375779129857495,-1.0733262213458366,1.5095707931854256,1.4926547513515411,-1.4903673348000304,0.006547077994674863,-2.37505648660841,2.9728508456224914,1.0290186951862679,0.5440620221918286,0.9002580946747937,-1.0156584091562844,1.3933440451154258,1.1328637796487013,0.5841270540609813,-0.5245074772237989,-0.6461802354258396,5.513919070963878,-1.0271748441245603,2.8124271804326475,5.039344208093707,0.1349408133489001,1.7970649525873497,4.327297287461326,2.573590894750362,-3.9953128796989574,-3.68859117476614,0.09861701153373097,0.6880964897085672,3.029101105265659,-0.47413961780998626,-0.27820299885931843,1.492805618709116,-0.1382700992031068,-0.5467358934498986,-2.3260806325541945,-10.227708879203467,-1.4688328874398573,1.482563101365193,1.2960042341763465,-2.321126889637669,1.2434467241723721,-3.6098670220097,1.348955313641776,2.971658785619048,3.86769762879293,1.557663297102991,-0.9754440025693899,-1.9632097406000373,-0.02307247562795136,-1.6596635882936561,-1.5862218855549561,0.6339540989568876,-1.8225506788665706,1.6189289371282183,0.7312241404637579,0.043408265364406264,-2.9462446291098243,-12.671886655375733,-3.8056884256175545,-0.09436320847531036,2.1872824135260442,-0.749173559364308,-1.9288451143914305,-0.8323586888637378,0.6353092372157009,-0.2208555287433945,-0.1944849941993956,2.4239407959090835,-0.3826546787295234,0.33344378442379363,0.46165155326193535,2.4531870868196384,1.8138172734868625,-1.2139017140155892,2.071674581734786,0.7822680763620028,-1.1809661401924498,-1.0105843722868693,-1.3626105903379186,1.723226262490108,1.8992116161707708,-2.3404943280332047,-2.355500081012045,0.2820576796342184,2.74646165767176,0.9296862380144268,2.147296661472731,0.7427872809542225,-0.2664906324450042,-1.6946690601603964,-3.4809006771214643,3.226114848118044,-0.9074932462732294,-0.5202560670515117,2.1417725625326236,-6.562416686223878,-4.741520126917102,2.273359214159205,-1.1502271465314617,2.0696975858961624,3.68523541909412,0.06616549834604823,3.403757398677227,-0.24571898124989336,0.08550377856282457,1.961716844331979,1.4071349847033654,-1.2680285045670445,0.7038460518991546,2.913574015122825,0.24045298453439265,0.7889620038737897,-2.2609866294283254,-0.6072178613974659,0.5482289954345955,0.06662186683322444,1.106668328806535,0.11533363831157935,3.8871022311718537,0.9112026630554309,6.693220681195551,-4.44426763962121,-1.4222913453190067,1.8271488469601034,2.013113605555295,-0.23794761199546963,-1.8009736684223654,1.1102204543812295,4.486789966138172,1.3802648810184388,1.848246111835907,-0.22999675499071326,0.3045239716054097,-2.297181402667484,-2.165442594414504,1.771184431328396,1.1168750319711007,0.7912059758719492,-0.1754322012061077,2.4638110102872375,3.816319817917759,-4.0904740826539925,1.2226258927490712,1.607196972805137,-2.5264771840941656,-0.7419075285400536,-4.245563348180398,-7.278316153019905,-0.7749320416837976,3.7905125067319747,1.4917417155861663,-2.256233111755322,4.11016487143819,2.3292002257242084,0.3561704927766971,2.369173253956644,1.1947870957282962,-3.3979574309340057,1.1665293101714977,-0.389891555912388,-0.37807088907722447,2.0103908632604757,-6.572530324365908,1.365314036893557,1.2410432420031925,-1.0702705108914086,1.3189519884657517,3.488738163418598,-1.4989971663769575,1.3756023636282655,-1.3379846044926749,-8.270737345030865,0.9660610358054921,-0.8907832068888234,-2.1631297506852376,1.549931673625334,1.053894681544426,0.035645979100363885,1.7928426348641093,-0.8026822036511,-0.7066199108422425,1.6697485762376658,-4.934263282747674,3.5243496363625595,1.7054130067597886,1.0989996161755786,-2.8296530107115876,0.3443846473042886,-0.6601432144149033,-0.07738248747778259,-0.9583388319372139,-1.0012701126249595,-0.0047130378282669635,1.4682367240313907,-0.4375754193143808,-0.7803871826664213,2.0739101156118265,1.612374426013727,1.2112524218266059,0.061083490545122736,-5.072514433010188,-0.8806750576338885,3.310714586641528,-2.3588864919529926,-2.3671969381905726,-2.6958209053323947,-2.9657805365133085,-1.302351058008909,-0.8550244731743172,1.8548083549261316,-1.615454949906814,0.5604848252593319,2.758314942047577,-1.661979982654921,1.9530649347035267,1.6634619976455258,-1.6264834660329657,-3.2129343643515216,1.2775060532100226,-0.5582333889317077,-1.1447131527603485,-2.6382746820245475,-0.6133120165935537,1.6249880133321684,-0.37410699178907625,-1.380014652586862,-2.233725995245857,-3.14028903247162,1.9471757920914132,-2.423348514275179,-0.389713406259053,0.014749429804997004,1.0002894146952708,1.7870164746917416,-0.18914325280441827,2.7651402895084063,1.815397698369642,-1.3308607524270764,0.04754807371543,3.2694030864021144,-0.33057576120176796,-3.7225602159627416,-0.0020399953062293194,1.96187174534203,-2.6057718548894893,1.9029463939389686,-0.7770873454133205,-3.1685485780550846,0.33685560681159255,-1.3334568612333964,1.355235666136341,-3.4589063276272998,1.7432513859938499,-0.9256645824151923,-1.6464017299701152,1.408400381150437,-5.06047270536203,0.2995381496041098,1.8434420062818309,-6.160384174692148,0.3782221435495061,0.5906355030110091,-2.322242718742941,0.14714721976005918,0.8839086459304848,0.5024258193921016,0.7300724714447604,0.8732328333660557,4.062387799316785,2.7904754011738837,7.622521519338699,1.4661522036690537,-3.6396171966035,0.6517844639263763,0.04450565876180536,7.667100280313316,1.4015334813025018,1.7376165111478243,-0.950589672694186,1.3700705628642962,-3.22819773496229,1.24152753981263,-1.141516564803423,2.0210103713615615,2.9330833184206546,-1.0483589170534935,-1.1399255193704418,0.9530494161486883,-8.140407970054325,0.8538038652665312,2.5180355802230774,-1.2967318195706365,-4.145356628962844,0.09274802761198683,3.728858401200124,-0.5758416136409096,-1.784899159619309,0.6621686339982711,-0.8456648654019823,1.645254293008894,-0.4800131352338149,1.000272944738548,1.33491462852143,0.49890869354567174,5.176560413468563,-3.426546505399799,1.7359263591852185,0.9366965564306029,2.2983393228622284,2.41441745045674,-1.5720585545825354,-0.0006959513526680329,0.4679193021641607,0.20096028293182855,0.7061259427433318,-7.722684671709398,1.5315794846021211,1.0778397332897338,0.1691139039944589,-1.7291278360180269,1.7824093300601798,-1.9991530566400881,-0.6831122050860208,-1.6432153187267478,0.2901809536422737,0.3471238962690528,-1.7876125129406426,0.36297442244047223,0.5041882791257821,1.2164252377582034,0.32254423693061696,4.511187692654522,1.289688533114011,3.0493082312999973,-1.3951854254378362,-0.7589692805531709,1.9002809207650757,2.142321964700648,1.9781555493724878,0.1821605753651663,-2.611356193339971,-0.22475210772556226,1.299551331058283,-0.5904091030795626,-7.37594264860592,-1.889552862146827,3.1440003108277566,-0.5478314013132148,1.3397025273370076],\"z\":[0.3398745845910506,-0.44720765044984834,-1.1694072148225192,0.30510227333440315,-0.49836527268505293,-0.16742607044304886,1.2919067017522001,0.25985862861257064,0.5206899771010479,0.5086930538824351,0.9893103883690559,1.6855104375100034,-0.45098264400480254,-0.3792049148679902,1.0243976486922148,0.6310800327708609,0.6424971472861476,2.2904514413652683,-2.6170375107884913,0.9863733493969252,1.5574381245423738,-1.2190849974790876,-1.592890988658331,-1.2458598121447275,-0.26188174779294776,0.33684881475134604,-0.20295182161032546,0.3665078212076045,0.9105526881209111,-0.2169739268041266,-1.3952055418977838,-1.8786160401760148,1.1833566502471866,1.6750694125169225,-0.6873963304800598,-0.7078626240208052,0.1521361168710356,0.9451930187823946,2.177886024815025,-0.00014632970166903944,-2.814997750645202,0.46787427131275794,-1.5719828723215157,3.151009979669075,-1.7603824357110307,0.47448386422016203,-2.683720733302206,0.5424563529372889,-3.2718882869748387,2.0506497888066075,-0.3435597760818534,2.011861414838745,2.4992596068994093,0.44114466787452955,-0.45578273554748205,-1.2460842868042454,-0.8997637685856404,-1.0355272552170791,0.7519824618796002,0.7714650542929791,0.5582544303669542,-3.427779662254599,0.5148392323255148,0.4420038959953602,0.7284760218557274,0.9850793362588522,0.6319084524583025,-0.6200898940962418,0.9570331888515442,0.08986637199983273,-0.16336576439497713,-0.2248785044055461,-0.027112421980438225,3.099389496623876,-3.7499699686391677,1.9077186968951294,1.4567461429190485,0.9914540163366716,0.8836854717805485,1.0988037502259647,0.8906199837547087,1.4804731399182511,-1.0075585315726767,-0.10696737118410155,3.6102211408674334,0.4430612624064714,-1.1791530173549587,-0.17998955689963544,4.032381636194203,-1.0662562052886575,2.5684859488376737,-1.8391593286641406,-1.5233262803452738,-1.297729091812205,-0.44176746636043424,-0.3784047971721028,-1.9894485946130127,-0.017912169357633605,0.28062583147726977,2.249409336761729,-0.6277862185641325,-1.1357960725778589,-0.9954779539641834,1.1079163173903304,0.7359567022873075,1.0435322021847473,-7.752705983130132,-2.1647183064823325,-1.7658853532361718,0.058729512646220734,-1.7672727105075505,0.5486330058186569,-0.18411054657044926,0.519084062113421,0.939863808047,0.26369725717438397,-0.39600657459536504,-0.005688349391067347,1.0995816959061144,0.47869786046428436,1.9914564058132775,-0.2884738920591534,1.7535088563819474,-0.29506915112675713,-2.8544448820606982,-0.38225811015474936,1.624336525683937,-1.1239517565036303,1.7542703767146888,0.8788727938320663,1.2344780211236288,-2.1221985651783117,1.2119499798915532,-1.0683875447863573,-2.4468161769043473,1.715454746000093,-2.0005847851485328,-0.4546567092847907,-1.149213584830635,-0.49408585295805263,-4.275503390099411,-0.0006682539580469098,-0.6720248052196777,1.3376944591709805,-2.2194796733861737,1.22229829383689,0.3454814290051911,-2.324964859807573,0.1879956555230536,1.321094906311377,1.144620066567027,0.4828664234420185,-1.0692716263018107,1.4413150984037764,1.2337547084087235,1.4382485826650167,-1.593603950931402,0.798251035172334,-1.495083346101266,0.44982640920415556,0.7154161217645314,-5.769238773537208,-1.85587364752605,0.01919233357465618,3.1970170483509586,-0.3831839862066402,1.6717526196358778,0.1447797106832069,-1.26761236812167,-1.1733314399324288,-1.8545535188651827,0.14934676797208768,0.590256310445844,0.6536311927919365,2.7403623353967284,1.170351229883897,-0.6510093644645205,0.18530892740473767,1.2994405329667291,0.2595925864259034,-2.117287267100905,1.430591696513359,0.7321268326412076,-0.6813709181994688,-0.7951309908545884,-0.40443524769019223,0.7542357212619869,-0.7206251179016647,-0.6523987835793285,1.1979418908510462,-2.267642875360824,-0.6673988140810483,-0.6221274245230791,-2.3418299200775845,-1.1269726739996724,-3.7675644426670676,-0.011259814423295047,-2.2376483548003767,0.293505663255274,1.0383295795206302,0.9094296789367549,0.7915594344314284,1.7720467798898156,-1.9279250689464975,-2.522504163268556,-0.49562753643312835,-2.589048233304004,-0.5112445765427377,0.5186738085816361,2.034193884956997,-0.7599164589646923,-1.522480509226531,0.26594184766965884,-1.0990125202447565,-0.38981682702843345,0.9336142150264047,-1.194159512155112,-1.526829954257566,-0.938733457237663,0.18448750665129832,-0.2966368811205053,1.4035858914488486,-1.241323599733961,3.379671243687372,0.6833000589849116,1.3078306142384581,3.3401665807384417,0.2606429720875311,1.6177774452004254,2.037043274990385,0.049799965271098826,0.5693140890033473,2.252065779825256,1.3999284223118293,0.16268940944572424,-5.630229720427105,2.0743701151198066,2.9539096002285326,0.5147230073511635,-0.34961837791946176,0.1522271173644258,-0.4939157498358098,0.2433947799156588,1.4652552931267895,0.3951122359915692,-0.4105618812128143,0.3778731590719209,0.18816448069383565,-0.5338730401086766,-0.29440087178979457,-0.6944637596819228,-0.61173160926106,0.03779959542512565,2.015976488544765,1.7485586465267347,0.637702559799,0.05897868051535975,1.0869026740913283,1.924494309614397,-2.5955009610874833,-1.5806985695646913,1.93365794523371,1.3186208736451939,-1.2273127415280807,-0.2750695330634602,-0.2535400035688058,1.7873776731797593,0.11368851894974118,0.8412601049952855,0.7424515862453237,-7.062078035580046,-0.5042621674517089,0.3970796414705492,1.3112166199311195,0.8688016324471423,1.8348782575159006,-1.3150426476256514,1.225997315375987,3.224500394349611,0.990303248527312,-1.3911027251034374,-1.4294359248230726,-0.19801028576758384,0.24012295458840577,0.6948118140779895,-2.4308405496014465,0.8253241561017888,3.0559136983069397,1.9264525342739707,1.5198739431438895,-4.62580038349846,0.8433532804873985,1.81568382805016,-1.799455538007945,1.1134253258390654,-3.3579943082627657,0.28742754278973187,0.3696379912225294,-0.5559867468562075,-0.8119618073507229,3.3070097985473956,-0.01437071973476871,0.2966565435736566,1.9551069269933163,-0.09449571799375288,2.8916010873828557,-1.2859644138709343,1.1299869643302998,5.068467245059573,0.33158136601569116,-2.2469333127003024,-0.6318446067054246,-0.4163815957496201,0.8501558240245904,0.09651578123351502,0.35176225000142813,0.48086185232655443,0.28208103464444173,-0.357780562324913,-9.355365688007426,0.5373283969847991,0.04510191172342042,-0.3121172881586206,-1.030610239460531,-5.533557205950485,-0.8542525031635024,-0.5827656482316926,-0.30289832299637875,-0.6057549865990368,-1.5308153655818209,0.8516718888116664,-0.24765603910969147,1.0528156061000253,-2.8192442309635832,2.4055859513406537,-1.853833457512306,0.6740657146203901,0.4003396808810133,0.2839970378545435,-0.4468964878782595,3.6643790770827556,2.8558051892862006,-3.641720408879172,0.6233102409639502,1.1940373699003557,-0.39365531202330023,2.29533195702344,3.6161523289649122,0.7267062363068559,-0.31124841921231405,1.4365760870681874,-2.4761359887209826,-0.5480541341197487,0.009960402080603623,-3.4307937341235086,0.7644207472198804,-1.6891681559505725,0.04297679623842854,-0.1873960673549647,-0.701150594799552,0.8735724969169107,-0.6455737800713324,2.2674898511865926,-0.6375754992025006,0.8265361017022971,-1.3297866652842296,-0.24054052268217532,1.5854431468718433,-0.25200293387840844,-1.3230570876049133,1.9406650421796703,1.4692437700625323,-0.48049935541485894,1.2386597846414416,-0.7421185836421071,-1.3947553231674683,-0.40477929639716465,-3.3231113661529763,-0.9787546003285286,0.4355437691848213,-0.8032521903996773,-0.657263005723617,-0.07088407804963874,1.1064326310503678,0.22756470902246048,0.8992148352324708,1.8366182082976932,-0.1302846337655518,1.78036286678846,0.00720389708658504,0.5033253278414489,-0.5403447516589334,1.7898335095954132,-3.9286960891302094,0.6227234930868505,0.021236991505001013,2.748877476733464,0.007964290057560053],\"type\":\"scatter3d\"}],                        {\"template\":{\"data\":{\"histogram2dcontour\":[{\"type\":\"histogram2dcontour\",\"colorbar\":{\"outlinewidth\":0,\"ticks\":\"\"},\"colorscale\":[[0.0,\"#0d0887\"],[0.1111111111111111,\"#46039f\"],[0.2222222222222222,\"#7201a8\"],[0.3333333333333333,\"#9c179e\"],[0.4444444444444444,\"#bd3786\"],[0.5555555555555556,\"#d8576b\"],[0.6666666666666666,\"#ed7953\"],[0.7777777777777778,\"#fb9f3a\"],[0.8888888888888888,\"#fdca26\"],[1.0,\"#f0f921\"]]}],\"choropleth\":[{\"type\":\"choropleth\",\"colorbar\":{\"outlinewidth\":0,\"ticks\":\"\"}}],\"histogram2d\":[{\"type\":\"histogram2d\",\"colorbar\":{\"outlinewidth\":0,\"ticks\":\"\"},\"colorscale\":[[0.0,\"#0d0887\"],[0.1111111111111111,\"#46039f\"],[0.2222222222222222,\"#7201a8\"],[0.3333333333333333,\"#9c179e\"],[0.4444444444444444,\"#bd3786\"],[0.5555555555555556,\"#d8576b\"],[0.6666666666666666,\"#ed7953\"],[0.7777777777777778,\"#fb9f3a\"],[0.8888888888888888,\"#fdca26\"],[1.0,\"#f0f921\"]]}],\"heatmap\":[{\"type\":\"heatmap\",\"colorbar\":{\"outlinewidth\":0,\"ticks\":\"\"},\"colorscale\":[[0.0,\"#0d0887\"],[0.1111111111111111,\"#46039f\"],[0.2222222222222222,\"#7201a8\"],[0.3333333333333333,\"#9c179e\"],[0.4444444444444444,\"#bd3786\"],[0.5555555555555556,\"#d8576b\"],[0.6666666666666666,\"#ed7953\"],[0.7777777777777778,\"#fb9f3a\"],[0.8888888888888888,\"#fdca26\"],[1.0,\"#f0f921\"]]}],\"heatmapgl\":[{\"type\":\"heatmapgl\",\"colorbar\":{\"outlinewidth\":0,\"ticks\":\"\"},\"colorscale\":[[0.0,\"#0d0887\"],[0.1111111111111111,\"#46039f\"],[0.2222222222222222,\"#7201a8\"],[0.3333333333333333,\"#9c179e\"],[0.4444444444444444,\"#bd3786\"],[0.5555555555555556,\"#d8576b\"],[0.6666666666666666,\"#ed7953\"],[0.7777777777777778,\"#fb9f3a\"],[0.8888888888888888,\"#fdca26\"],[1.0,\"#f0f921\"]]}],\"contourcarpet\":[{\"type\":\"contourcarpet\",\"colorbar\":{\"outlinewidth\":0,\"ticks\":\"\"}}],\"contour\":[{\"type\":\"contour\",\"colorbar\":{\"outlinewidth\":0,\"ticks\":\"\"},\"colorscale\":[[0.0,\"#0d0887\"],[0.1111111111111111,\"#46039f\"],[0.2222222222222222,\"#7201a8\"],[0.3333333333333333,\"#9c179e\"],[0.4444444444444444,\"#bd3786\"],[0.5555555555555556,\"#d8576b\"],[0.6666666666666666,\"#ed7953\"],[0.7777777777777778,\"#fb9f3a\"],[0.8888888888888888,\"#fdca26\"],[1.0,\"#f0f921\"]]}],\"surface\":[{\"type\":\"surface\",\"colorbar\":{\"outlinewidth\":0,\"ticks\":\"\"},\"colorscale\":[[0.0,\"#0d0887\"],[0.1111111111111111,\"#46039f\"],[0.2222222222222222,\"#7201a8\"],[0.3333333333333333,\"#9c179e\"],[0.4444444444444444,\"#bd3786\"],[0.5555555555555556,\"#d8576b\"],[0.6666666666666666,\"#ed7953\"],[0.7777777777777778,\"#fb9f3a\"],[0.8888888888888888,\"#fdca26\"],[1.0,\"#f0f921\"]]}],\"mesh3d\":[{\"type\":\"mesh3d\",\"colorbar\":{\"outlinewidth\":0,\"ticks\":\"\"}}],\"scatter\":[{\"fillpattern\":{\"fillmode\":\"overlay\",\"size\":10,\"solidity\":0.2},\"type\":\"scatter\"}],\"parcoords\":[{\"type\":\"parcoords\",\"line\":{\"colorbar\":{\"outlinewidth\":0,\"ticks\":\"\"}}}],\"scatterpolargl\":[{\"type\":\"scatterpolargl\",\"marker\":{\"colorbar\":{\"outlinewidth\":0,\"ticks\":\"\"}}}],\"bar\":[{\"error_x\":{\"color\":\"#2a3f5f\"},\"error_y\":{\"color\":\"#2a3f5f\"},\"marker\":{\"line\":{\"color\":\"#E5ECF6\",\"width\":0.5},\"pattern\":{\"fillmode\":\"overlay\",\"size\":10,\"solidity\":0.2}},\"type\":\"bar\"}],\"scattergeo\":[{\"type\":\"scattergeo\",\"marker\":{\"colorbar\":{\"outlinewidth\":0,\"ticks\":\"\"}}}],\"scatterpolar\":[{\"type\":\"scatterpolar\",\"marker\":{\"colorbar\":{\"outlinewidth\":0,\"ticks\":\"\"}}}],\"histogram\":[{\"marker\":{\"pattern\":{\"fillmode\":\"overlay\",\"size\":10,\"solidity\":0.2}},\"type\":\"histogram\"}],\"scattergl\":[{\"type\":\"scattergl\",\"marker\":{\"colorbar\":{\"outlinewidth\":0,\"ticks\":\"\"}}}],\"scatter3d\":[{\"type\":\"scatter3d\",\"line\":{\"colorbar\":{\"outlinewidth\":0,\"ticks\":\"\"}},\"marker\":{\"colorbar\":{\"outlinewidth\":0,\"ticks\":\"\"}}}],\"scattermapbox\":[{\"type\":\"scattermapbox\",\"marker\":{\"colorbar\":{\"outlinewidth\":0,\"ticks\":\"\"}}}],\"scatterternary\":[{\"type\":\"scatterternary\",\"marker\":{\"colorbar\":{\"outlinewidth\":0,\"ticks\":\"\"}}}],\"scattercarpet\":[{\"type\":\"scattercarpet\",\"marker\":{\"colorbar\":{\"outlinewidth\":0,\"ticks\":\"\"}}}],\"carpet\":[{\"aaxis\":{\"endlinecolor\":\"#2a3f5f\",\"gridcolor\":\"white\",\"linecolor\":\"white\",\"minorgridcolor\":\"white\",\"startlinecolor\":\"#2a3f5f\"},\"baxis\":{\"endlinecolor\":\"#2a3f5f\",\"gridcolor\":\"white\",\"linecolor\":\"white\",\"minorgridcolor\":\"white\",\"startlinecolor\":\"#2a3f5f\"},\"type\":\"carpet\"}],\"table\":[{\"cells\":{\"fill\":{\"color\":\"#EBF0F8\"},\"line\":{\"color\":\"white\"}},\"header\":{\"fill\":{\"color\":\"#C8D4E3\"},\"line\":{\"color\":\"white\"}},\"type\":\"table\"}],\"barpolar\":[{\"marker\":{\"line\":{\"color\":\"#E5ECF6\",\"width\":0.5},\"pattern\":{\"fillmode\":\"overlay\",\"size\":10,\"solidity\":0.2}},\"type\":\"barpolar\"}],\"pie\":[{\"automargin\":true,\"type\":\"pie\"}]},\"layout\":{\"autotypenumbers\":\"strict\",\"colorway\":[\"#636efa\",\"#EF553B\",\"#00cc96\",\"#ab63fa\",\"#FFA15A\",\"#19d3f3\",\"#FF6692\",\"#B6E880\",\"#FF97FF\",\"#FECB52\"],\"font\":{\"color\":\"#2a3f5f\"},\"hovermode\":\"closest\",\"hoverlabel\":{\"align\":\"left\"},\"paper_bgcolor\":\"white\",\"plot_bgcolor\":\"#E5ECF6\",\"polar\":{\"bgcolor\":\"#E5ECF6\",\"angularaxis\":{\"gridcolor\":\"white\",\"linecolor\":\"white\",\"ticks\":\"\"},\"radialaxis\":{\"gridcolor\":\"white\",\"linecolor\":\"white\",\"ticks\":\"\"}},\"ternary\":{\"bgcolor\":\"#E5ECF6\",\"aaxis\":{\"gridcolor\":\"white\",\"linecolor\":\"white\",\"ticks\":\"\"},\"baxis\":{\"gridcolor\":\"white\",\"linecolor\":\"white\",\"ticks\":\"\"},\"caxis\":{\"gridcolor\":\"white\",\"linecolor\":\"white\",\"ticks\":\"\"}},\"coloraxis\":{\"colorbar\":{\"outlinewidth\":0,\"ticks\":\"\"}},\"colorscale\":{\"sequential\":[[0.0,\"#0d0887\"],[0.1111111111111111,\"#46039f\"],[0.2222222222222222,\"#7201a8\"],[0.3333333333333333,\"#9c179e\"],[0.4444444444444444,\"#bd3786\"],[0.5555555555555556,\"#d8576b\"],[0.6666666666666666,\"#ed7953\"],[0.7777777777777778,\"#fb9f3a\"],[0.8888888888888888,\"#fdca26\"],[1.0,\"#f0f921\"]],\"sequentialminus\":[[0.0,\"#0d0887\"],[0.1111111111111111,\"#46039f\"],[0.2222222222222222,\"#7201a8\"],[0.3333333333333333,\"#9c179e\"],[0.4444444444444444,\"#bd3786\"],[0.5555555555555556,\"#d8576b\"],[0.6666666666666666,\"#ed7953\"],[0.7777777777777778,\"#fb9f3a\"],[0.8888888888888888,\"#fdca26\"],[1.0,\"#f0f921\"]],\"diverging\":[[0,\"#8e0152\"],[0.1,\"#c51b7d\"],[0.2,\"#de77ae\"],[0.3,\"#f1b6da\"],[0.4,\"#fde0ef\"],[0.5,\"#f7f7f7\"],[0.6,\"#e6f5d0\"],[0.7,\"#b8e186\"],[0.8,\"#7fbc41\"],[0.9,\"#4d9221\"],[1,\"#276419\"]]},\"xaxis\":{\"gridcolor\":\"white\",\"linecolor\":\"white\",\"ticks\":\"\",\"title\":{\"standoff\":15},\"zerolinecolor\":\"white\",\"automargin\":true,\"zerolinewidth\":2},\"yaxis\":{\"gridcolor\":\"white\",\"linecolor\":\"white\",\"ticks\":\"\",\"title\":{\"standoff\":15},\"zerolinecolor\":\"white\",\"automargin\":true,\"zerolinewidth\":2},\"scene\":{\"xaxis\":{\"backgroundcolor\":\"#E5ECF6\",\"gridcolor\":\"white\",\"linecolor\":\"white\",\"showbackground\":true,\"ticks\":\"\",\"zerolinecolor\":\"white\",\"gridwidth\":2},\"yaxis\":{\"backgroundcolor\":\"#E5ECF6\",\"gridcolor\":\"white\",\"linecolor\":\"white\",\"showbackground\":true,\"ticks\":\"\",\"zerolinecolor\":\"white\",\"gridwidth\":2},\"zaxis\":{\"backgroundcolor\":\"#E5ECF6\",\"gridcolor\":\"white\",\"linecolor\":\"white\",\"showbackground\":true,\"ticks\":\"\",\"zerolinecolor\":\"white\",\"gridwidth\":2}},\"shapedefaults\":{\"line\":{\"color\":\"#2a3f5f\"}},\"annotationdefaults\":{\"arrowcolor\":\"#2a3f5f\",\"arrowhead\":0,\"arrowwidth\":1},\"geo\":{\"bgcolor\":\"white\",\"landcolor\":\"#E5ECF6\",\"subunitcolor\":\"white\",\"showland\":true,\"showlakes\":true,\"lakecolor\":\"white\"},\"title\":{\"x\":0.05},\"mapbox\":{\"style\":\"light\"}}},\"scene\":{\"domain\":{\"x\":[0.0,1.0],\"y\":[0.0,1.0]},\"xaxis\":{\"title\":{\"text\":\"PC1\"}},\"yaxis\":{\"title\":{\"text\":\"PC2\"}},\"zaxis\":{\"title\":{\"text\":\"PC3\"}}},\"legend\":{\"title\":{\"text\":\"diagnosis\"},\"tracegroupgap\":0},\"margin\":{\"t\":60}},                        {\"responsive\": true}                    ).then(function(){\n",
              "                            \n",
              "var gd = document.getElementById('b6c090ee-f5aa-4584-94aa-7ca1e1afc0ee');\n",
              "var x = new MutationObserver(function (mutations, observer) {{\n",
              "        var display = window.getComputedStyle(gd).display;\n",
              "        if (!display || display === 'none') {{\n",
              "            console.log([gd, 'removed!']);\n",
              "            Plotly.purge(gd);\n",
              "            observer.disconnect();\n",
              "        }}\n",
              "}});\n",
              "\n",
              "// Listen for the removal of the full notebook cells\n",
              "var notebookContainer = gd.closest('#notebook-container');\n",
              "if (notebookContainer) {{\n",
              "    x.observe(notebookContainer, {childList: true});\n",
              "}}\n",
              "\n",
              "// Listen for the clearing of the current output cell\n",
              "var outputEl = gd.closest('.output');\n",
              "if (outputEl) {{\n",
              "    x.observe(outputEl, {childList: true});\n",
              "}}\n",
              "\n",
              "                        })                };                            </script>        </div>\n",
              "</body>\n",
              "</html>"
            ]
          },
          "metadata": {}
        }
      ]
    },
    {
      "cell_type": "code",
      "source": [
        "plt.figure(figsize=(8,5))\n",
        "plt.bar(range(1, len(pre_contri_to_var)+1), pre_contri_to_var, alpha=0.7)\n",
        "plt.step(range(1, len(cumulative_var)+1), cumulative_var, where='mid', color='red')\n",
        "plt.xlabel('Principal Component')\n",
        "plt.ylabel('Variance Explained (%)')\n",
        "plt.title('Scree Plot & Cumulative Variance')\n",
        "plt.show()\n"
      ],
      "metadata": {
        "colab": {
          "base_uri": "https://localhost:8080/",
          "height": 487
        },
        "id": "Yscx5SNitr-x",
        "outputId": "38a5534f-ce45-47bb-fdce-27c9b6b8dbeb"
      },
      "execution_count": 81,
      "outputs": [
        {
          "output_type": "display_data",
          "data": {
            "text/plain": [
              "<Figure size 800x500 with 1 Axes>"
            ],
            "image/png": "[encoded data removed]"
          },
          "metadata": {}
        }
      ]
    },
    {
      "cell_type": "code",
      "source": [
        "# Map 'B' -> 0, 'M' -> 1\n",
        "y_numeric = y_train.map({'B': 0, 'M': 1})\n",
        "\n",
        "plt.scatter(X_train_pca[:,0], X_train_pca[:,1], c=y_numeric, cmap='coolwarm', alpha=0.7)\n",
        "plt.xlabel('PC1')\n",
        "plt.ylabel('PC2')\n",
        "plt.title('2D PCA Scatter Plot')\n",
        "plt.colorbar(label='Target (0=B, 1=M)')\n",
        "plt.show()\n"
      ],
      "metadata": {
        "colab": {
          "base_uri": "https://localhost:8080/",
          "height": 472
        },
        "id": "yF1KrEbyuQMt",
        "outputId": "5230ed9e-9efb-41c3-ad77-0602aa1a7ad3"
      },
      "execution_count": 86,
      "outputs": [
        {
          "output_type": "display_data",
          "data": {
            "text/plain": [
              "<Figure size 640x480 with 2 Axes>"
            ],
            "image/png": "[encoded data removed]"
          },
          "metadata": {}
        }
      ]
    },
    {
      "cell_type": "markdown",
      "source": [
        "# PCA using scikit learn"
      ],
      "metadata": {
        "id": "YS6KDJeNu5T3"
      }
    },
    {
      "cell_type": "code",
      "source": [
        "from sklearn.decomposition import PCA\n",
        "\n",
        "pca = PCA(n_components=7)\n",
        "\n",
        "X_train_pca = pca.fit_transform(X_train_scaled)\n",
        "X_test_pca = pca.transform(X_test_scaled)\n",
        "\n",
        "model = KNeighborsClassifier(n_neighbors=5)\n",
        "model.fit(X_train_pca, y_train)\n",
        "y_pred = model.predict(X_test_pca)\n",
        "\n",
        "print(\"Accuracy after PCA (library):\", accuracy_score(y_test, y_pred))"
      ],
      "metadata": {
        "colab": {
          "base_uri": "https://localhost:8080/"
        },
        "id": "1uRG22Hcu-OZ",
        "outputId": "37691b53-1838-4320-ab58-abefb24aeda5"
      },
      "execution_count": 89,
      "outputs": [
        {
          "output_type": "stream",
          "name": "stdout",
          "text": [
            "Accuracy after PCA (library): 0.9649122807017544\n"
          ]
        }
      ]
    },
    {
      "cell_type": "code",
      "source": [],
      "metadata": {
        "id": "d9BAKmyIviD2"
      },
      "execution_count": null,
      "outputs": []
    }
  ]
}